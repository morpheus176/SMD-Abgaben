{
 "cells": [
  {
   "cell_type": "markdown",
   "metadata": {},
   "source": [
    "# Aufgabe 25"
   ]
  },
  {
   "cell_type": "markdown",
   "metadata": {},
   "source": [
    "## a)"
   ]
  },
  {
   "cell_type": "code",
   "execution_count": 19,
   "metadata": {},
   "outputs": [],
   "source": [
    "import numpy as np\n",
    "import matplotlib as plt\n",
    "import csv "
   ]
  },
  {
   "cell_type": "markdown",
   "metadata": {},
   "source": [
    "### Definiere Polynom:\n",
    "\\begin{equation}\n",
    "    p(x)=a \\cdot x^6+b \\cdot x^5+c \\cdot x^4+d \\cdot x^3+e \\cdot x^2+f \\cdot x+g \n",
    "\\end{equation}"
   ]
  },
  {
   "cell_type": "code",
   "execution_count": 20,
   "metadata": {},
   "outputs": [],
   "source": [
    "def polynom6(x, a, b, c, d, e, f, g):\n",
    "     return a*x^6+b*x^5+c*x^4+d*x^3+e*x^2+f*x+g"
   ]
  },
  {
   "cell_type": "markdown",
   "metadata": {},
   "source": [
    "### Definiere Designmatrix\n",
    "\\begin{equation}\n",
    "A=\n",
    "    \\begin{pmatrix}\n",
    "        f_1(x_1) & f_2(x_1) & f_3(x_1) & f_4(x_1) & f_5(x_1) & f_6(x_1) & f_7(x_1) \\\\\n",
    "        f_1(x_2) & f_2(x_2) & f_3(x_2) & f_4(x_2) & f_5(x_2) & f_6(x_2) & f_7(x_1)\\\\\n",
    "        f_1(x_3) & f_2(x_3) & f_3(x_3) & f_4(x_3) & f_5(x_3) & f_6(x_3) & f_7(x_1)\\\\\n",
    "        f_1(x_4) & f_2(x_4) & f_3(x_4) & f_4(x_4) & f_5(x_4) & f_6(x_4) & f_7(x_1)\\\\\n",
    "        f_1(x_5) & f_2(x_5) & f_3(x_5) & f_4(x_5) & f_5(x_5) & f_6(x_5) & f_7(x_1)\\\\\n",
    "        f_1(x_6) & f_2(x_6) & f_3(x_6) & f_4(x_6) & f_5(x_6) & f_6(x_6) & f_7(x_1)\\\\\n",
    "        f_1(x_7) & f_2(x_7) & f_3(x_7) & f_4(x_7) & f_5(x_7) & f_6(x_7) & f_7(x_1)\\\\\n",
    "        f_1(x_8) & f_2(x_8) & f_3(x_8) & f_4(x_8) & f_5(x_8) & f_6(x_8) & f_7(x_1)\n",
    "    \\end{pmatrix}\n",
    "\\end{equation}"
   ]
  },
  {
   "cell_type": "code",
   "execution_count": 21,
   "metadata": {},
   "outputs": [],
   "source": [
    "def MatrixA(x):\n",
    "    f1 = np.ones(len(x))\n",
    "    f2 = f1*x\n",
    "    f3 = f2*x\n",
    "    f4 = f3*x\n",
    "    f5 = f4*x\n",
    "    f6 = f5*x\n",
    "    f7 = f6*x\n",
    "    return np.vstack((f1,f2,f3,f4,f5,f6,f7)).T"
   ]
  },
  {
   "cell_type": "markdown",
   "metadata": {},
   "source": [
    "mit $f_1(x) = 1$,  $f_2(x) = x $, $f_3(x) = x^2$, $f_4(x) = x^3 $, $f_5(x) = x^4$, $f_6(x) = x^5 $ und $f_7(x) = x^6 $"
   ]
  },
  {
   "cell_type": "code",
   "execution_count": 22,
   "metadata": {},
   "outputs": [
    {
     "name": "stdout",
     "output_type": "stream",
     "text": [
      "[['x', ' \"y_0\"'], ['0.50', ' 0.132939'], ['1.50', ' 0.204351'], ['2.50', ' 0.197394'], ['3.50', ' 0.157457'], ['4.50', ' 0.139232'], ['5.50', ' 0.060324'], ['6.50', ' 0.056360'], ['7.50', ' 0.051944']]\n"
     ]
    }
   ],
   "source": [
    "with open('aufg_a.csv', newline='') as csvfile:\n",
    "    data = list(csv.reader(csvfile))\n",
    "\n",
    "print(data)"
   ]
  },
  {
   "cell_type": "code",
   "execution_count": 51,
   "metadata": {},
   "outputs": [
    {
     "data": {
      "text/plain": [
       "array(['0.50', '1.50', '2.50', '3.50', '4.50', '5.50', '6.50', '7.50'],\n",
       "      dtype='<U9')"
      ]
     },
     "execution_count": 51,
     "metadata": {},
     "output_type": "execute_result"
    }
   ],
   "source": [
    "#ndata=np.delete(data, (0), axis=0)\n",
    "ndata=np.array(data[1:])\n",
    "x = ndata[:,0]\n",
    "x"
   ]
  }
 ],
 "metadata": {
  "kernelspec": {
   "display_name": "Python 3",
   "language": "python",
   "name": "python3"
  },
  "language_info": {
   "codemirror_mode": {
    "name": "ipython",
    "version": 3
   },
   "file_extension": ".py",
   "mimetype": "text/x-python",
   "name": "python",
   "nbconvert_exporter": "python",
   "pygments_lexer": "ipython3",
   "version": "3.6.5"
  }
 },
 "nbformat": 4,
 "nbformat_minor": 2
}
