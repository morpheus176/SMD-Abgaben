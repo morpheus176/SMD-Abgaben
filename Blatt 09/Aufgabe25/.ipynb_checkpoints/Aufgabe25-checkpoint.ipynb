{
 "cells": [
  {
   "cell_type": "markdown",
   "metadata": {},
   "source": [
    "# Aufgabe 25"
   ]
  },
  {
   "cell_type": "markdown",
   "metadata": {},
   "source": [
    "## a)"
   ]
  },
  {
   "cell_type": "code",
   "execution_count": 109,
   "metadata": {},
   "outputs": [],
   "source": [
    "import numpy as np\n",
    "import matplotlib.pyplot as plt\n",
    "from scipy.sparse import diags\n",
    "import csv "
   ]
  },
  {
   "cell_type": "markdown",
   "metadata": {},
   "source": [
    "### Definiere Polynom:\n",
    "\\begin{equation}\n",
    "    p(x)=a \\cdot x^6+b \\cdot x^5+c \\cdot x^4+d \\cdot x^3+e \\cdot x^2+f \\cdot x+g \n",
    "\\end{equation}"
   ]
  },
  {
   "cell_type": "code",
   "execution_count": 110,
   "metadata": {},
   "outputs": [],
   "source": [
    "def polynom6(x, a, b, c, d, e, f, g):\n",
    "     return a*x**6+b*x**5+c*x**4+d*x**3+e*x**2+f*x+g"
   ]
  },
  {
   "cell_type": "markdown",
   "metadata": {},
   "source": [
    "### Definiere Designmatrix\n",
    "\\begin{equation}\n",
    "A=\n",
    "    \\begin{pmatrix}\n",
    "        f_1(x_1) & f_2(x_1) & f_3(x_1) & f_4(x_1) & f_5(x_1) & f_6(x_1) & f_7(x_1) \\\\\n",
    "        f_1(x_2) & f_2(x_2) & f_3(x_2) & f_4(x_2) & f_5(x_2) & f_6(x_2) & f_7(x_1)\\\\\n",
    "        f_1(x_3) & f_2(x_3) & f_3(x_3) & f_4(x_3) & f_5(x_3) & f_6(x_3) & f_7(x_1)\\\\\n",
    "        f_1(x_4) & f_2(x_4) & f_3(x_4) & f_4(x_4) & f_5(x_4) & f_6(x_4) & f_7(x_1)\\\\\n",
    "        f_1(x_5) & f_2(x_5) & f_3(x_5) & f_4(x_5) & f_5(x_5) & f_6(x_5) & f_7(x_1)\\\\\n",
    "        f_1(x_6) & f_2(x_6) & f_3(x_6) & f_4(x_6) & f_5(x_6) & f_6(x_6) & f_7(x_1)\\\\\n",
    "        f_1(x_7) & f_2(x_7) & f_3(x_7) & f_4(x_7) & f_5(x_7) & f_6(x_7) & f_7(x_1)\\\\\n",
    "        f_1(x_8) & f_2(x_8) & f_3(x_8) & f_4(x_8) & f_5(x_8) & f_6(x_8) & f_7(x_1)\n",
    "    \\end{pmatrix}\n",
    "\\end{equation}"
   ]
  },
  {
   "cell_type": "code",
   "execution_count": 111,
   "metadata": {},
   "outputs": [],
   "source": [
    "def MatrixA(x):\n",
    "    f1 = np.ones(len(x))\n",
    "    f2 = f1*x\n",
    "    f3 = f2*x\n",
    "    f4 = f3*x\n",
    "    f5 = f4*x\n",
    "    f6 = f5*x\n",
    "    f7 = f6*x\n",
    "    A = np.vstack((f1,f2,f3,f4,f5,f6,f7)).T\n",
    "    return np.asmatrix(A)"
   ]
  },
  {
   "cell_type": "markdown",
   "metadata": {},
   "source": [
    "mit $f_1(x) = 1$,  $f_2(x) = x $, $f_3(x) = x^2$, $f_4(x) = x^3 $, $f_5(x) = x^4$, $f_6(x) = x^5 $ und $f_7(x) = x^6 $"
   ]
  },
  {
   "cell_type": "code",
   "execution_count": 118,
   "metadata": {},
   "outputs": [],
   "source": [
    "def exceldata(file):\n",
    "    with open(file, newline='') as csvfile:\n",
    "        data = list(csv.reader(csvfile))\n",
    "    ndata=np.array(data[1:])\n",
    "    x = ndata[:,0]\n",
    "    x = x.astype(np.float)\n",
    "    y = ndata[:,1]\n",
    "    y = y.astype(np.float)\n",
    "    if len(ndata[0]) == 3:\n",
    "        z = ndata[:,2]\n",
    "        z = y.astype(np.float)\n",
    "        return x, y, z\n",
    "    return x, y"
   ]
  },
  {
   "cell_type": "code",
   "execution_count": 119,
   "metadata": {},
   "outputs": [
    {
     "data": {
      "text/plain": [
       "matrix([[-6.74453241e-02],\n",
       "        [ 6.09609032e-01],\n",
       "        [-5.13748208e-01],\n",
       "        [ 2.10566519e-01],\n",
       "        [-4.52007747e-02],\n",
       "        [ 4.78568044e-03],\n",
       "        [-1.96288194e-04]])"
      ]
     },
     "execution_count": 119,
     "metadata": {},
     "output_type": "execute_result"
    }
   ],
   "source": [
    "#ndata=np.delete(data, (0), axis=0)\n",
    "x, y =exceldata('aufg_a.csv')\n",
    "ymatrix = np.asmatrix(y)\n",
    "a = (A.T*A)**(-1)*A.T*ymatrix.T\n",
    "a\n",
    "#a_array=np.asarray(a)"
   ]
  },
  {
   "cell_type": "code",
   "execution_count": 121,
   "metadata": {},
   "outputs": [
    {
     "data": {
      "text/plain": [
       "[<matplotlib.lines.Line2D at 0x2c7516a4400>]"
      ]
     },
     "execution_count": 121,
     "metadata": {},
     "output_type": "execute_result"
    },
    {
     "data": {
      "image/png": "[encoded data removed]",
      "text/plain": [
       "<matplotlib.figure.Figure at 0x2c7516a4898>"
      ]
     },
     "metadata": {},
     "output_type": "display_data"
    }
   ],
   "source": [
    "z=np.linspace(0, 8)\n",
    "plt.plot(x, y, 'b.')\n",
    "a_Array=np.asarray(a)\n",
    "p=polynom6(z, a_Array[6], a_Array[5], a_Array[4], a_Array[3], a_Array[2], a_Array[1], a_Array[0])\n",
    "plt.plot(z, p, 'y-')"
   ]
  },
  {
   "cell_type": "markdown",
   "metadata": {},
   "source": [
    "## b)"
   ]
  },
  {
   "cell_type": "code",
   "execution_count": 130,
   "metadata": {},
   "outputs": [
    {
     "name": "stdout",
     "output_type": "stream",
     "text": [
      "[[-1.  1.  0.  0.  0.  0.  0.  0.]\n",
      " [ 1. -2.  1.  0.  0.  0.  0.  0.]\n",
      " [ 0.  1. -2.  1.  0.  0.  0.  0.]\n",
      " [ 0.  0.  1. -2.  1.  0.  0.  0.]\n",
      " [ 0.  0.  0.  1. -2.  1.  0.  0.]\n",
      " [ 0.  0.  0.  0.  1. -2.  1.  0.]\n",
      " [ 0.  0.  0.  0.  0.  1. -1.  1.]]\n"
     ]
    },
    {
     "data": {
      "image/png": "[encoded data removed]",
      "text/plain": [
       "<matplotlib.figure.Figure at 0x2c7517fbfd0>"
      ]
     },
     "metadata": {},
     "output_type": "display_data"
    },
    {
     "data": {
      "text/plain": [
       "<matplotlib.figure.Figure at 0x2c75186bcf8>"
      ]
     },
     "metadata": {},
     "output_type": "display_data"
    }
   ],
   "source": [
    "C = diags([1, -2, 1], [-1, 0, 1], shape=(7, 8)).toarray()\n",
    "C[0][0] = -1\n",
    "C[6][6] = -1\n",
    "print(C)\n",
    "for lamb in [0.1,0.3,0.7,3,10]:\n",
    "\n",
    "    a = np.dot(np.dot(np.linalg.inv(np.dot(A.T,A) + lamb*np.dot(np.dot(C, A).T, np.dot(C, A))),A.T),y)\n",
    "    a2=np.asarray(a.T)\n",
    "    plt.plot(x,y, 'b.')\n",
    "    xx = np.linspace(-1,8, 100)\n",
    "    plt.plot(xx, polynom6(xx,a2[6], a2[5], a2[4], a2[3], a2[2], a2[1], a2[0]), label=r'$\\lambda$ = {}'.format(lamb))\n",
    "\n",
    "plt.legend()\n",
    "#plt.savefig('build/A1_b.pdf')\n",
    "plt.show()\n",
    "plt.gcf().clear()\n",
    "#test"
   ]
  },
  {
   "cell_type": "code",
   "execution_count": null,
   "metadata": {},
   "outputs": [],
   "source": []
  },
  {
   "cell_type": "markdown",
   "metadata": {},
   "source": [
    "## c)"
   ]
  },
  {
   "cell_type": "code",
   "execution_count": null,
   "metadata": {},
   "outputs": [],
   "source": []
  }
 ],
 "metadata": {
  "kernelspec": {
   "display_name": "Python 3",
   "language": "python",
   "name": "python3"
  },
  "language_info": {
   "codemirror_mode": {
    "name": "ipython",
    "version": 3
   },
   "file_extension": ".py",
   "mimetype": "text/x-python",
   "name": "python",
   "nbconvert_exporter": "python",
   "pygments_lexer": "ipython3",
   "version": "3.6.5"
  }
 },
 "nbformat": 4,
 "nbformat_minor": 2
}
