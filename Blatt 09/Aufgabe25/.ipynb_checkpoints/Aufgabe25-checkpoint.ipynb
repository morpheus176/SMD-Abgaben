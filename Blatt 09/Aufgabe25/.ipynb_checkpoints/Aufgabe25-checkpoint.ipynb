{
 "cells": [
  {
   "cell_type": "markdown",
   "metadata": {},
   "source": [
    "# Aufgabe 25"
   ]
  },
  {
   "cell_type": "markdown",
   "metadata": {},
   "source": [
    "## a)"
   ]
  },
  {
   "cell_type": "code",
   "execution_count": 179,
   "metadata": {},
   "outputs": [],
   "source": [
    "import numpy as np\n",
    "import matplotlib.pyplot as plt\n",
    "from scipy.sparse import diags\n",
    "from scipy.stats import sem\n",
    "import csv "
   ]
  },
  {
   "cell_type": "markdown",
   "metadata": {},
   "source": [
    "### Definiere Polynom:\n",
    "\\begin{equation}\n",
    "    p(x)=a \\cdot x^6+b \\cdot x^5+c \\cdot x^4+d \\cdot x^3+e \\cdot x^2+f \\cdot x+g \n",
    "\\end{equation}"
   ]
  },
  {
   "cell_type": "code",
   "execution_count": 180,
   "metadata": {},
   "outputs": [],
   "source": [
    "def polynom6(x, a, b, c, d, e, f, g):\n",
    "     return a*x**6+b*x**5+c*x**4+d*x**3+e*x**2+f*x+g"
   ]
  },
  {
   "cell_type": "markdown",
   "metadata": {},
   "source": [
    "### Definiere Designmatrix\n",
    "\\begin{equation}\n",
    "A=\n",
    "    \\begin{pmatrix}\n",
    "        f_1(x_1) & f_2(x_1) & f_3(x_1) & f_4(x_1) & f_5(x_1) & f_6(x_1) & f_7(x_1) \\\\\n",
    "        f_1(x_2) & f_2(x_2) & f_3(x_2) & f_4(x_2) & f_5(x_2) & f_6(x_2) & f_7(x_1)\\\\\n",
    "        f_1(x_3) & f_2(x_3) & f_3(x_3) & f_4(x_3) & f_5(x_3) & f_6(x_3) & f_7(x_1)\\\\\n",
    "        f_1(x_4) & f_2(x_4) & f_3(x_4) & f_4(x_4) & f_5(x_4) & f_6(x_4) & f_7(x_1)\\\\\n",
    "        f_1(x_5) & f_2(x_5) & f_3(x_5) & f_4(x_5) & f_5(x_5) & f_6(x_5) & f_7(x_1)\\\\\n",
    "        f_1(x_6) & f_2(x_6) & f_3(x_6) & f_4(x_6) & f_5(x_6) & f_6(x_6) & f_7(x_1)\\\\\n",
    "        f_1(x_7) & f_2(x_7) & f_3(x_7) & f_4(x_7) & f_5(x_7) & f_6(x_7) & f_7(x_1)\\\\\n",
    "        f_1(x_8) & f_2(x_8) & f_3(x_8) & f_4(x_8) & f_5(x_8) & f_6(x_8) & f_7(x_1)\n",
    "    \\end{pmatrix}\n",
    "\\end{equation}"
   ]
  },
  {
   "cell_type": "code",
   "execution_count": 181,
   "metadata": {},
   "outputs": [],
   "source": [
    "def MatrixA(x):\n",
    "    f1 = np.ones(len(x))\n",
    "    f2 = f1*x\n",
    "    f3 = f2*x\n",
    "    f4 = f3*x\n",
    "    f5 = f4*x\n",
    "    f6 = f5*x\n",
    "    f7 = f6*x\n",
    "    A = np.vstack((f1,f2,f3,f4,f5,f6,f7)).T\n",
    "    return np.asmatrix(A)"
   ]
  },
  {
   "cell_type": "markdown",
   "metadata": {},
   "source": [
    "mit $f_1(x) = 1$,  $f_2(x) = x $, $f_3(x) = x^2$, $f_4(x) = x^3 $, $f_5(x) = x^4$, $f_6(x) = x^5 $ und $f_7(x) = x^6 $"
   ]
  },
  {
   "cell_type": "code",
   "execution_count": 182,
   "metadata": {},
   "outputs": [],
   "source": [
    "def exceldata(filename, y_rows, Sig):\n",
    "    x = []\n",
    "    y = []\n",
    "    with open(filename) as f:\n",
    "        reader = csv.reader(f)\n",
    "        for row in reader:\n",
    "            x.append(row[0])\n",
    "            if y_rows > 1:\n",
    "                y.append(row[1:y_rows+1])\n",
    "            else:\n",
    "                y.append(row[1])\n",
    "    #Erste Zeilen löschen\n",
    "    x = x[1:]\n",
    "    y = np.delete(y,(0), axis=0)\n",
    "    \n",
    "    # Arrays erzeugen (ich werde das ziemlich oft benutzen, sorry schonmal)\n",
    "    x = np.asarray(x)\n",
    "    y = np.asarray(y)\n",
    "    \n",
    "    # Sollen floats sein (zum rechnen, sonst kommen irgendwelche dtype-Fehler)\n",
    "    x = x.astype(np.float)\n",
    "    y = y.astype(np.float)\n",
    "    \n",
    "    if Sig == True:\n",
    "        sigma = np.zeros(len(x))\n",
    "        newy = np.zeros(len(x))\n",
    "        for i in range(0,y.shape[0]):\n",
    "            newy[i] = np.mean(y[i])\n",
    "            sigma[i] = sem(y[i])\n",
    "        return x, newy, sigma\n",
    "    else:\n",
    "        return x, y"
   ]
  },
  {
   "cell_type": "code",
   "execution_count": 183,
   "metadata": {
    "scrolled": true
   },
   "outputs": [
    {
     "data": {
      "text/plain": [
       "matrix([[-6.74453270e-02],\n",
       "        [ 6.09609038e-01],\n",
       "        [-5.13748213e-01],\n",
       "        [ 2.10566521e-01],\n",
       "        [-4.52007751e-02],\n",
       "        [ 4.78568049e-03],\n",
       "        [-1.96288196e-04]])"
      ]
     },
     "execution_count": 183,
     "metadata": {},
     "output_type": "execute_result"
    }
   ],
   "source": [
    "A=MatrixA(x)\n",
    "x, y =exceldata(filename = 'aufg_a.csv', y_rows=1, Sig=False)\n",
    "ymatrix = np.asmatrix(y)\n",
    "a = (A.T*A)**(-1)*A.T*ymatrix.T\n",
    "a\n",
    "#a_array=np.asarray(a)"
   ]
  },
  {
   "cell_type": "code",
   "execution_count": 184,
   "metadata": {
    "scrolled": true
   },
   "outputs": [
    {
     "data": {
      "text/plain": [
       "[<matplotlib.lines.Line2D at 0xa3fe1d0>]"
      ]
     },
     "execution_count": 184,
     "metadata": {},
     "output_type": "execute_result"
    },
    {
     "data": {
      "image/png": "[encoded data removed]",
      "text/plain": [
       "<Figure size 432x288 with 1 Axes>"
      ]
     },
     "metadata": {},
     "output_type": "display_data"
    }
   ],
   "source": [
    "z=np.linspace(0, 8)\n",
    "plt.plot(x, y, 'b.')\n",
    "a_Array=np.asarray(a)\n",
    "p=polynom6(z, a_Array[6], a_Array[5], a_Array[4], a_Array[3], a_Array[2], a_Array[1], a_Array[0])\n",
    "plt.plot(z, p, 'y-')"
   ]
  },
  {
   "cell_type": "markdown",
   "metadata": {},
   "source": [
    "## b)"
   ]
  },
  {
   "cell_type": "code",
   "execution_count": 187,
   "metadata": {
    "scrolled": true
   },
   "outputs": [
    {
     "data": {
      "image/png": "[encoded data removed]",
      "text/plain": [
       "<Figure size 432x288 with 1 Axes>"
      ]
     },
     "metadata": {},
     "output_type": "display_data"
    },
    {
     "data": {
      "text/plain": [
       "<Figure size 432x288 with 0 Axes>"
      ]
     },
     "metadata": {},
     "output_type": "display_data"
    }
   ],
   "source": [
    "C = diags([1, -2, 1], [-1, 0, 1], shape=(7, 8)).toarray()\n",
    "C[0][0] = C[6][6] = -1\n",
    "C2=np.asmatrix(C)\n",
    "#print(C2)\n",
    "xx = np.linspace(0,8)\n",
    "for lamb in [0.1,0.3,0.7,3,10]:\n",
    "    a = ((((A.T*A) + lamb*np.dot(np.dot(C, A).T, np.dot(C, A))).I)*A.T)*ymatrix.T\n",
    "    a2=np.asarray(a)\n",
    "    plt.plot(x,y, 'b.')\n",
    "    plt.plot(xx, polynom6(xx,a2[6], a2[5], a2[4], a2[3], a2[2], a2[1], a2[0]), label=r'$\\lambda$ = {}'.format(lamb))\n",
    "\n",
    "plt.legend()\n",
    "plt.xlabel('x')\n",
    "plt.ylabel('y')\n",
    "plt.show()\n",
    "plt.gcf().clear()\n",
    "#test"
   ]
  },
  {
   "cell_type": "markdown",
   "metadata": {},
   "source": [
    "## c)"
   ]
  },
  {
   "cell_type": "code",
   "execution_count": 188,
   "metadata": {
    "scrolled": true
   },
   "outputs": [
    {
     "name": "stdout",
     "output_type": "stream",
     "text": [
      "[[ 1.03975571e-01]\n",
      " [ 1.92955236e-02]\n",
      " [ 6.17000864e-02]\n",
      " [-3.75650744e-02]\n",
      " [ 7.91884440e-03]\n",
      " [-7.34894300e-04]\n",
      " [ 2.56958578e-05]]\n"
     ]
    }
   ],
   "source": [
    "x, y, sigma = exceldata(filename='aufg_c.csv', y_rows=50, Sig=True)\n",
    "ymatrix=np.asmatrix(y)\n",
    "W = np.diag(1/sigma**2*np.ones(len(x))) \n",
    "a = ((A.T*W*A).I *A.T*W) * ymatrix.T\n",
    "print(a)"
   ]
  },
  {
   "cell_type": "code",
   "execution_count": 174,
   "metadata": {
    "scrolled": true
   },
   "outputs": [
    {
     "data": {
      "image/png": "[encoded data removed]",
      "text/plain": [
       "<Figure size 432x288 with 1 Axes>"
      ]
     },
     "metadata": {},
     "output_type": "display_data"
    },
    {
     "data": {
      "text/plain": [
       "<Figure size 432x288 with 0 Axes>"
      ]
     },
     "metadata": {},
     "output_type": "display_data"
    }
   ],
   "source": [
    "a=np.asarray(a)\n",
    "plt.plot(x, y, 'rx', label='Messwerte')\n",
    "plt.plot(xx, polynom6(xx, a[6], a[5], a[4], a[3], a[2], a[1], a[0]), label='Fit')\n",
    "plt.legend()\n",
    "plt.grid()\n",
    "plt.xlabel(r'$x$')\n",
    "plt.ylabel(r'$y$')\n",
    "plt.show()\n",
    "plt.clf()"
   ]
  },
  {
   "cell_type": "markdown",
   "metadata": {},
   "source": [
    "## Testsektion"
   ]
  },
  {
   "cell_type": "code",
   "execution_count": 61,
   "metadata": {},
   "outputs": [
    {
     "name": "stdout",
     "output_type": "stream",
     "text": [
      "[[ 1.59237191e-01  5.65708226e-02 -6.53778238e-02  3.29968398e-02\n",
      "  -8.75709659e-03  1.12033520e-03 -5.46050309e-05]] \n",
      "\n",
      "[[ 1.59237191e-01]\n",
      " [ 5.65708226e-02]\n",
      " [-6.53778238e-02]\n",
      " [ 3.29968398e-02]\n",
      " [-8.75709659e-03]\n",
      " [ 1.12033520e-03]\n",
      " [-5.46050309e-05]] \n",
      "\n",
      "[[1.00000000e+01 6.50000000e+01 4.42500000e+02 3.13625000e+03\n",
      "  2.29406250e+04 1.71604062e+05 1.30240266e+06]\n",
      " [6.50000000e+01 4.32500000e+02 2.89625000e+03 2.04181250e+04\n",
      "  1.49164062e+05 1.11550203e+06 8.46573102e+06]\n",
      " [4.42500000e+02 2.89625000e+03 1.98206250e+04 1.40944062e+05\n",
      "  1.03252266e+06 7.72488102e+06 5.85860825e+07]\n",
      " [3.13625000e+03 2.04181250e+04 1.40944062e+05 1.00936203e+06\n",
      "  7.42696602e+06 5.56854949e+07 4.22558847e+08]\n",
      " [2.29406250e+04 1.49164062e+05 1.03252266e+06 7.42696602e+06\n",
      "  5.48496875e+07 4.12205948e+08 3.13131636e+09]\n",
      " [1.71604062e+05 1.11550203e+06 7.72488102e+06 5.56854949e+07\n",
      "  4.12205948e+08 3.10325731e+09 2.35984573e+10]\n",
      " [1.30240266e+06 8.46573102e+06 5.85860825e+07 4.22558847e+08\n",
      "  3.13131636e+09 2.35984573e+10 1.79592308e+11]] \n",
      "\n",
      "[[1.00000000e+01 6.50000000e+01 4.42500000e+02 3.13625000e+03\n",
      "  2.29406250e+04 1.71604062e+05 1.30240266e+06]\n",
      " [6.50000000e+01 4.32500000e+02 2.89625000e+03 2.04181250e+04\n",
      "  1.49164062e+05 1.11550203e+06 8.46573102e+06]\n",
      " [4.42500000e+02 2.89625000e+03 1.98206250e+04 1.40944062e+05\n",
      "  1.03252266e+06 7.72488102e+06 5.85860825e+07]\n",
      " [3.13625000e+03 2.04181250e+04 1.40944062e+05 1.00936203e+06\n",
      "  7.42696602e+06 5.56854949e+07 4.22558847e+08]\n",
      " [2.29406250e+04 1.49164062e+05 1.03252266e+06 7.42696602e+06\n",
      "  5.48496875e+07 4.12205948e+08 3.13131636e+09]\n",
      " [1.71604062e+05 1.11550203e+06 7.72488102e+06 5.56854949e+07\n",
      "  4.12205948e+08 3.10325731e+09 2.35984573e+10]\n",
      " [1.30240266e+06 8.46573102e+06 5.85860825e+07 4.22558847e+08\n",
      "  3.13131636e+09 2.35984573e+10 1.79592308e+11]]\n"
     ]
    }
   ],
   "source": [
    "a = np.dot(np.dot(np.linalg.inv(np.dot(A.T,A) + lamb*np.dot(np.dot(C, A).T, np.dot(C, A))),A.T),y)\n",
    "a2 = ((((A.T*A) + 10*np.dot(np.dot(C, A).T, np.dot(C, A))).I)*A.T)*ymatrix.T\n",
    "a3= 10*np.dot(np.dot(C, A).T, np.dot(C, A))\n",
    "a4= 10*((C2*A).T * (C2 * A))#*ymatrix.T\n",
    "print(a, \"\\n\")\n",
    "print(a2, \"\\n\")\n",
    "print(a3, \"\\n\")\n",
    "print(a4)"
   ]
  },
  {
   "cell_type": "code",
   "execution_count": null,
   "metadata": {},
   "outputs": [],
   "source": []
  }
 ],
 "metadata": {
  "kernelspec": {
   "display_name": "Python 3",
   "language": "python",
   "name": "python3"
  },
  "language_info": {
   "codemirror_mode": {
    "name": "ipython",
    "version": 3
   },
   "file_extension": ".py",
   "mimetype": "text/x-python",
   "name": "python",
   "nbconvert_exporter": "python",
   "pygments_lexer": "ipython3",
   "version": "3.6.5"
  }
 },
 "nbformat": 4,
 "nbformat_minor": 2
}
