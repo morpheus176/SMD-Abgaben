{
 "cells": [
  {
   "cell_type": "markdown",
   "metadata": {},
   "source": [
    "# Aufgabe 25"
   ]
  },
  {
   "cell_type": "markdown",
   "metadata": {},
   "source": [
    "## a)"
   ]
  },
  {
   "cell_type": "code",
   "execution_count": 63,
   "metadata": {},
   "outputs": [],
   "source": [
    "import numpy as np\n",
    "import matplotlib.pyplot as plt\n",
    "import csv "
   ]
  },
  {
   "cell_type": "markdown",
   "metadata": {},
   "source": [
    "### Definiere Polynom:\n",
    "\\begin{equation}\n",
    "    p(x)=a \\cdot x^6+b \\cdot x^5+c \\cdot x^4+d \\cdot x^3+e \\cdot x^2+f \\cdot x+g \n",
    "\\end{equation}"
   ]
  },
  {
   "cell_type": "code",
   "execution_count": 64,
   "metadata": {},
   "outputs": [],
   "source": [
    "def polynom6(x, a, b, c, d, e, f, g):\n",
    "     return a*x**6+b*x**5+c*x**4+d*x**3+e*x**2+f*x+g"
   ]
  },
  {
   "cell_type": "markdown",
   "metadata": {},
   "source": [
    "### Definiere Designmatrix\n",
    "\\begin{equation}\n",
    "A=\n",
    "    \\begin{pmatrix}\n",
    "        f_1(x_1) & f_2(x_1) & f_3(x_1) & f_4(x_1) & f_5(x_1) & f_6(x_1) & f_7(x_1) \\\\\n",
    "        f_1(x_2) & f_2(x_2) & f_3(x_2) & f_4(x_2) & f_5(x_2) & f_6(x_2) & f_7(x_1)\\\\\n",
    "        f_1(x_3) & f_2(x_3) & f_3(x_3) & f_4(x_3) & f_5(x_3) & f_6(x_3) & f_7(x_1)\\\\\n",
    "        f_1(x_4) & f_2(x_4) & f_3(x_4) & f_4(x_4) & f_5(x_4) & f_6(x_4) & f_7(x_1)\\\\\n",
    "        f_1(x_5) & f_2(x_5) & f_3(x_5) & f_4(x_5) & f_5(x_5) & f_6(x_5) & f_7(x_1)\\\\\n",
    "        f_1(x_6) & f_2(x_6) & f_3(x_6) & f_4(x_6) & f_5(x_6) & f_6(x_6) & f_7(x_1)\\\\\n",
    "        f_1(x_7) & f_2(x_7) & f_3(x_7) & f_4(x_7) & f_5(x_7) & f_6(x_7) & f_7(x_1)\\\\\n",
    "        f_1(x_8) & f_2(x_8) & f_3(x_8) & f_4(x_8) & f_5(x_8) & f_6(x_8) & f_7(x_1)\n",
    "    \\end{pmatrix}\n",
    "\\end{equation}"
   ]
  },
  {
   "cell_type": "code",
   "execution_count": 65,
   "metadata": {},
   "outputs": [],
   "source": [
    "def MatrixA(x):\n",
    "    f1 = np.ones(len(x))\n",
    "    f2 = f1*x\n",
    "    f3 = f2*x\n",
    "    f4 = f3*x\n",
    "    f5 = f4*x\n",
    "    f6 = f5*x\n",
    "    f7 = f6*x\n",
    "    A = np.vstack((f1,f2,f3,f4,f5,f6,f7)).T\n",
    "    return np.asarray(A)"
   ]
  },
  {
   "cell_type": "markdown",
   "metadata": {},
   "source": [
    "mit $f_1(x) = 1$,  $f_2(x) = x $, $f_3(x) = x^2$, $f_4(x) = x^3 $, $f_5(x) = x^4$, $f_6(x) = x^5 $ und $f_7(x) = x^6 $"
   ]
  },
  {
   "cell_type": "code",
   "execution_count": 66,
   "metadata": {},
   "outputs": [
    {
     "name": "stdout",
     "output_type": "stream",
     "text": [
      "[['x', ' \"y_0\"'], ['0.50', ' 0.132939'], ['1.50', ' 0.204351'], ['2.50', ' 0.197394'], ['3.50', ' 0.157457'], ['4.50', ' 0.139232'], ['5.50', ' 0.060324'], ['6.50', ' 0.056360'], ['7.50', ' 0.051944']]\n"
     ]
    }
   ],
   "source": [
    "with open('aufg_a.csv', newline='') as csvfile:\n",
    "    data = list(csv.reader(csvfile))\n",
    "\n",
    "print(data)"
   ]
  },
  {
   "cell_type": "code",
   "execution_count": 67,
   "metadata": {},
   "outputs": [
    {
     "ename": "ValueError",
     "evalue": "operands could not be broadcast together with shapes (7,8) (8,7) ",
     "output_type": "error",
     "traceback": [
      "\u001b[1;31m---------------------------------------------------------------------------\u001b[0m",
      "\u001b[1;31mValueError\u001b[0m                                Traceback (most recent call last)",
      "\u001b[1;32m<ipython-input-67-9202d51e420c>\u001b[0m in \u001b[0;36m<module>\u001b[1;34m()\u001b[0m\n\u001b[0;32m      8\u001b[0m \u001b[0my\u001b[0m \u001b[1;33m=\u001b[0m \u001b[0mnp\u001b[0m\u001b[1;33m.\u001b[0m\u001b[0masarray\u001b[0m\u001b[1;33m(\u001b[0m\u001b[0my\u001b[0m\u001b[1;33m)\u001b[0m\u001b[1;33m\u001b[0m\u001b[0m\n\u001b[0;32m      9\u001b[0m \u001b[0mA\u001b[0m \u001b[1;33m=\u001b[0m \u001b[0mMatrixA\u001b[0m\u001b[1;33m(\u001b[0m\u001b[0mx2\u001b[0m\u001b[1;33m)\u001b[0m\u001b[1;33m\u001b[0m\u001b[0m\n\u001b[1;32m---> 10\u001b[1;33m \u001b[0ma\u001b[0m \u001b[1;33m=\u001b[0m \u001b[1;33m(\u001b[0m\u001b[0mA\u001b[0m\u001b[1;33m.\u001b[0m\u001b[0mT\u001b[0m\u001b[1;33m*\u001b[0m\u001b[0mA\u001b[0m\u001b[1;33m)\u001b[0m\u001b[1;33m\u001b[0m\u001b[0m\n\u001b[0m\u001b[0;32m     11\u001b[0m \u001b[0ma\u001b[0m\u001b[1;33m\u001b[0m\u001b[0m\n",
      "\u001b[1;31mValueError\u001b[0m: operands could not be broadcast together with shapes (7,8) (8,7) "
     ]
    }
   ],
   "source": [
    "#ndata=np.delete(data, (0), axis=0)\n",
    "ndata=np.array(data[1:])\n",
    "x = ndata[:,0]\n",
    "x = x.astype(np.float)\n",
    "x = np.asarray(x)\n",
    "y = ndata[:,1]\n",
    "y = y.astype(np.float)\n",
    "y = np.asarray(y)\n",
    "A = MatrixA(x2)\n",
    "a = (A.T*A)\n",
    "a"
   ]
  },
  {
   "cell_type": "code",
   "execution_count": null,
   "metadata": {},
   "outputs": [],
   "source": [
    "z=np.linspace(0, 10)\n",
    "plt.plot(x2, y2, 'b.')\n",
    "p=polynom6(z, a[6], a[5], a[4], a[3], a[2], a[1], a[])\n",
    "plt.plot(z, p)"
   ]
  },
  {
   "cell_type": "code",
   "execution_count": null,
   "metadata": {},
   "outputs": [],
   "source": []
  }
 ],
 "metadata": {
  "kernelspec": {
   "display_name": "Python 3",
   "language": "python",
   "name": "python3"
  },
  "language_info": {
   "codemirror_mode": {
    "name": "ipython",
    "version": 3
   },
   "file_extension": ".py",
   "mimetype": "text/x-python",
   "name": "python",
   "nbconvert_exporter": "python",
   "pygments_lexer": "ipython3",
   "version": "3.6.5"
  }
 },
 "nbformat": 4,
 "nbformat_minor": 2
}
