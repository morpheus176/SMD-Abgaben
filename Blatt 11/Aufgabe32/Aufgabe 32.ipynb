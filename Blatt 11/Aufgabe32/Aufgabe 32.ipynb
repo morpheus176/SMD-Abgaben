{
 "cells": [
  {
   "cell_type": "markdown",
   "metadata": {},
   "source": [
    "# Aufgabe 32"
   ]
  },
  {
   "cell_type": "code",
   "execution_count": 74,
   "metadata": {},
   "outputs": [],
   "source": [
    "import numpy as np\n",
    "from scipy.stats import chi2"
   ]
  },
  {
   "cell_type": "code",
   "execution_count": 75,
   "metadata": {},
   "outputs": [],
   "source": [
    "def chi_quadrat_test(data, sigma, hypothese, freiheitsgrade, signifikanz):\n",
    "    pruefgroesse = sum((data-hypothese)**2/sigma**2)\n",
    "    chi_quadrat = chi2.ppf(1-signifikanz, freiheitsgrade)\n",
    "    test = pruefgroesse < chi_quadrat\n",
    "    \n",
    "    print('Prüfgröße: {:.2f} \\nChi_quadrat: {:.2f} \\nTest: {}'.format(pruefgroesse, chi_quadrat, test))"
   ]
  },
  {
   "cell_type": "markdown",
   "metadata": {},
   "source": [
    "### a)"
   ]
  },
  {
   "cell_type": "code",
   "execution_count": 76,
   "metadata": {},
   "outputs": [],
   "source": [
    "data = np.array([31.6, 32.2, 31.2, 31.9, 31.3, 30.8, 31.3])\n",
    "sigma = 0.5\n",
    "fg = len(data)-1\n",
    "\n",
    "H_A = 31.3\n",
    "signifikanz = 0.05"
   ]
  },
  {
   "cell_type": "code",
   "execution_count": 77,
   "metadata": {},
   "outputs": [
    {
     "name": "stdout",
     "output_type": "stream",
     "text": [
      "Prüfgröße: 6.08 \n",
      "Chi_quadrat: 12.59 \n",
      "Test: True\n"
     ]
    }
   ],
   "source": [
    "chi_quadrat_test(data, sigma, H_A, fg, signifikanz)"
   ]
  },
  {
   "cell_type": "markdown",
   "metadata": {},
   "source": [
    "### b)"
   ]
  },
  {
   "cell_type": "code",
   "execution_count": 78,
   "metadata": {
    "scrolled": true
   },
   "outputs": [
    {
     "name": "stdout",
     "output_type": "stream",
     "text": [
      "Prüfgröße: 21.92 \n",
      "Chi_quadrat: 12.59 \n",
      "Test: False\n"
     ]
    }
   ],
   "source": [
    "H_B = 30.7\n",
    "\n",
    "chi_quadrat_test(data, sigma, H_B, fg, signifikanz)"
   ]
  }
 ],
 "metadata": {
  "kernelspec": {
   "display_name": "Python 3",
   "language": "python",
   "name": "python3"
  },
  "language_info": {
   "codemirror_mode": {
    "name": "ipython",
    "version": 3
   },
   "file_extension": ".py",
   "mimetype": "text/x-python",
   "name": "python",
   "nbconvert_exporter": "python",
   "pygments_lexer": "ipython3",
   "version": "3.7.2"
  }
 },
 "nbformat": 4,
 "nbformat_minor": 2
}
