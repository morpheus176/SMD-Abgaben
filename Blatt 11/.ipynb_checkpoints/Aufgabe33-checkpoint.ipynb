{
 "cells": [
  {
   "cell_type": "markdown",
   "metadata": {},
   "source": [
    "# Aufgabe 33\n"
   ]
  },
  {
   "cell_type": "markdown",
   "metadata": {},
   "source": [
    "### a)"
   ]
  },
  {
   "cell_type": "code",
   "execution_count": null,
   "metadata": {},
   "outputs": [],
   "source": []
  },
  {
   "cell_type": "markdown",
   "metadata": {},
   "source": [
    "### b)"
   ]
  },
  {
   "cell_type": "code",
   "execution_count": 16,
   "metadata": {},
   "outputs": [],
   "source": [
    "import numpy as np\n",
    "import matplotlib.pyplot as plt\n",
    "from scipy import stats\n",
    "np.random.seed(1337)"
   ]
  },
  {
   "cell_type": "code",
   "execution_count": 17,
   "metadata": {},
   "outputs": [],
   "source": [
    "def ktest(X, Y, alpha):\n",
    "    n=np.sum(X)\n",
    "    m=np.sum(Y)\n",
    "\n",
    "    FX=np.cumsum(X)/n\n",
    "    FY=np.cumsum(Y)/m      \n",
    "    \n",
    "    d = np.max(np.abs(FX-FY)) #maximale Abstand\n",
    "    #print(d)\n",
    "    K_alpha = np.sqrt(np.log(2/alpha)/2)\n",
    "    #print(K_alpha)\n",
    "    passed = True\n",
    "    \n",
    "    #Überprüfung der Hypothese\n",
    "    if np.sqrt((n*m)/(n+m))*d <= K_alpha : \n",
    "        return True \n",
    "    else:\n",
    "        return False \n",
    "\n"
   ]
  },
  {
   "cell_type": "code",
   "execution_count": 18,
   "metadata": {
    "scrolled": true
   },
   "outputs": [
    {
     "data": {
      "image/png": "[encoded data removed]",
      "text/plain": [
       "<Figure size 432x288 with 1 Axes>"
      ]
     },
     "metadata": {},
     "output_type": "display_data"
    }
   ],
   "source": [
    "my=100\n",
    "sig=10\n",
    "normal = np.random.normal(100, 10, 10000)\n",
    "normal.astype(int)\n",
    "   \n",
    "normal = np.delete(normal, np.where(normal < my-5*sig))\n",
    "normal = np.delete(normal, np.where(normal > my+5*sig))\n",
    "\n",
    "\n",
    "normal_bins = np.histogram(normal, bins=np.linspace(my-5*sig,my+5*sig,100))\n",
    "\n",
    "\n",
    "plt.hist(normal, bins=np.linspace(my-5*sig,my+5*sig,100), alpha=0.5) \n",
    "plt.show()"
   ]
  },
  {
   "cell_type": "code",
   "execution_count": 19,
   "metadata": {
    "scrolled": true
   },
   "outputs": [
    {
     "name": "stdout",
     "output_type": "stream",
     "text": [
      "alpha =  0.05  : Für den Test sind die Verteilungen ab Lambda =  99.62196219621963 ununterscheidbar. \n",
      "\n",
      "alpha =  0.025  : Für den Test sind die Verteilungen ab Lambda =  30.11201120112011 ununterscheidbar. \n",
      "\n",
      "alpha =  0.01  : Für den Test sind die Verteilungen ab Lambda =  30.042004200420042 ununterscheidbar. \n",
      "\n"
     ]
    }
   ],
   "source": [
    "for alpha in [0.05, 0.025, 0.01]:\n",
    "    for lam in np.linspace(30, 100, 10000):\n",
    "        pois=np.random.poisson(lam, 10000)\n",
    "        \n",
    "        pois=np.delete(pois, np.where(pois < my-5*sig))\n",
    "        pois=np.delete(pois, np.where(pois > my+5*sig))\n",
    "        \n",
    "        poisson_bins = np.histogram(pois, bins=np.linspace(my-5*sig,my+5*sig,100))\n",
    "        \n",
    "        if ktest(poisson_bins[0], normal_bins[0], alpha) == True:\n",
    "            print(\"alpha = \", alpha, \" : Für den Test sind die Verteilungen ab Lambda = \", lam, \"ununterscheidbar. \\n\" )\n",
    "            break"
   ]
  },
  {
   "cell_type": "markdown",
   "metadata": {},
   "source": [
    "### d)"
   ]
  },
  {
   "cell_type": "code",
   "execution_count": null,
   "metadata": {},
   "outputs": [],
   "source": []
  }
 ],
 "metadata": {
  "kernelspec": {
   "display_name": "Python 3",
   "language": "python",
   "name": "python3"
  },
  "language_info": {
   "codemirror_mode": {
    "name": "ipython",
    "version": 3
   },
   "file_extension": ".py",
   "mimetype": "text/x-python",
   "name": "python",
   "nbconvert_exporter": "python",
   "pygments_lexer": "ipython3",
   "version": "3.6.5"
  }
 },
 "nbformat": 4,
 "nbformat_minor": 2
}
