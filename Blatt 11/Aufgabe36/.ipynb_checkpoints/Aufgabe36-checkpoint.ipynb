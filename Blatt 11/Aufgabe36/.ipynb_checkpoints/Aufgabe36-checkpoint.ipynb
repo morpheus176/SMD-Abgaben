{
 "cells": [
  {
   "cell_type": "markdown",
   "metadata": {},
   "source": [
    "# Aufgabe 36"
   ]
  },
  {
   "cell_type": "markdown",
   "metadata": {},
   "source": [
    "$$ \\sum_{i = 1}^r p_i = 1, \\qquad N = \\sum_{i = 1}^r n_i, \\qquad M = \\sum_{i = 1}^r m_i $$\n",
    "\n",
    "### a)\n",
    "\n",
    "Die Zählraten der einzelnen Bins folgen jeweils einer Poisson-Verteilung:\n",
    "\n",
    "$$\n",
    "\\begin{align}\n",
    "    f(n_i) &= \\frac{(N p_i)^{n_i}}{n_i !} e^{- N p_i} \\\\\n",
    "    g(m_i) &= \\frac{(M p_i)^{m_i}}{m_i !} e^{- M p_i}\n",
    "\\end{align}\n",
    "$$"
   ]
  },
  {
   "cell_type": "markdown",
   "metadata": {},
   "source": [
    "### b)\n",
    "\n",
    "Aufstellen der Likelihood-Funktion:\n",
    "\n",
    "$$\n",
    "\\begin{equation}\n",
    "    \\mathcal{L} = \\frac{(N p_i)^{n_i}}{n_i !} e^{- N p_i} \\cdot \\frac{(M p_i)^{m_i}}{m_i !} e^{- M p_i}\n",
    "                = \\frac{N^{n_i} M^{m_i}}{n_i ! m_i !} \\cdot p_i^{n_i+m_i} \\cdot e^{-(N+M) p_i}\n",
    "\\end{equation}\n",
    "$$\n",
    "\n",
    "Berechnung des Maximums $\\hat{p}_i$:\n",
    "\n",
    "$$\n",
    "\\begin{align}\n",
    "    \\frac{\\mathrm{d} \\mathcal{L}}{\\mathrm{d} \\hat{p}_i} &=\n",
    "    \\frac{N^{n_i} M^{m_i}}{n_i ! m_i !} \\left[(n_i+m_i) \\hat{p}_i^{n_i+m_i-1} e^{-(N+M)\\hat{p}_i} \n",
    "    - \\hat{p}_i^{n_i+m_i} (N+M) e^{-(N+M)\\hat{p}_i}\\right] \\\\\n",
    "    &= \\frac{N^{n_i} M^{m_i}}{n_i ! m_i !} \\hat{p}_i^{n_i+m_i} e^{-(N+M)\\hat{p}_i}\n",
    "    \\left( \\frac{n_i+m_i}{\\hat{p}_i} - (N+M) \\right) \\stackrel{!}{=} 0 \\\\\n",
    "\\end{align}\n",
    "$$\n",
    "\n",
    "$$\n",
    "\\begin{align}\n",
    "    \\Rightarrow \\hat{p}_i = \\frac{n_i+m_i}{M+N}\n",
    "\\end{align}\n",
    "$$"
   ]
  },
  {
   "cell_type": "markdown",
   "metadata": {},
   "source": [
    "### c)\n",
    "\n",
    "$$\n",
    "\\begin{equation}\n",
    "    \\chi^2 = \\sum_{i = 1}^r \\frac{(n_i-N \\hat{p}_i)^2}{N \\hat{p}_i} \n",
    "    + \\sum_{i = 1}^r \\frac{(m_i-M \\hat{p}_i)^2}{M \\hat{p}_i}\n",
    "\\end{equation}\n",
    "$$"
   ]
  },
  {
   "cell_type": "markdown",
   "metadata": {},
   "source": [
    "### d) \n",
    "\n",
    "Die Anzahl der Freiheitsgrade beträgt $r-1$.\n",
    "\n",
    "Die Teststatistik folgt für kleine Bininhalte keiner $\\chi^2$-Verteilung mehr, weil..."
   ]
  },
  {
   "cell_type": "markdown",
   "metadata": {},
   "source": [
    "### e)"
   ]
  },
  {
   "cell_type": "code",
   "execution_count": 14,
   "metadata": {},
   "outputs": [],
   "source": [
    "import numpy as np\n",
    "from scipy.stats import chi2"
   ]
  },
  {
   "cell_type": "code",
   "execution_count": 15,
   "metadata": {},
   "outputs": [],
   "source": [
    "n = np.array([111, 188, 333])\n",
    "m = np.array([15, 36, 30])\n",
    "\n",
    "r = len(n)-1\n",
    "N = sum(n)\n",
    "M = sum(m)\n",
    "\n",
    "def chi_quadrat_test(n, m, freiheitsgrade, signifikanz):\n",
    "    pruefgroesse = 1/(M*N) * sum((N*m-M*n)**2/(n+m))\n",
    "    chi_quadrat = chi2.ppf(1-signifikanz, freiheitsgrade)\n",
    "    test = pruefgroesse < chi_quadrat\n",
    "    \n",
    "    print('Prüfgröße: {:.2f} \\nChi_quadrat: {:.2f} \\nTest: {}'.format(pruefgroesse, chi_quadrat, test))"
   ]
  },
  {
   "cell_type": "code",
   "execution_count": 16,
   "metadata": {},
   "outputs": [
    {
     "name": "stdout",
     "output_type": "stream",
     "text": [
      "Prüfgröße: 8.43 \n",
      "Chi_quadrat: 4.61 \n",
      "Test: False\n"
     ]
    }
   ],
   "source": [
    "chi_quadrat_test(n, m, r, 0.1)"
   ]
  },
  {
   "cell_type": "code",
   "execution_count": 17,
   "metadata": {},
   "outputs": [
    {
     "name": "stdout",
     "output_type": "stream",
     "text": [
      "Prüfgröße: 8.43 \n",
      "Chi_quadrat: 5.99 \n",
      "Test: False\n"
     ]
    }
   ],
   "source": [
    "chi_quadrat_test(n, m, r, 0.05)"
   ]
  },
  {
   "cell_type": "code",
   "execution_count": 18,
   "metadata": {},
   "outputs": [
    {
     "name": "stdout",
     "output_type": "stream",
     "text": [
      "Prüfgröße: 8.43 \n",
      "Chi_quadrat: 9.21 \n",
      "Test: True\n"
     ]
    }
   ],
   "source": [
    "chi_quadrat_test(n, m, r, 0.01)"
   ]
  },
  {
   "cell_type": "markdown",
   "metadata": {},
   "source": [
    "Die Nullhypothese wird nur für $\\alpha = 0,01$ nicht verworfen."
   ]
  }
 ],
 "metadata": {
  "kernelspec": {
   "display_name": "Python 3",
   "language": "python",
   "name": "python3"
  },
  "language_info": {
   "codemirror_mode": {
    "name": "ipython",
    "version": 3
   },
   "file_extension": ".py",
   "mimetype": "text/x-python",
   "name": "python",
   "nbconvert_exporter": "python",
   "pygments_lexer": "ipython3",
   "version": "3.7.2"
  }
 },
 "nbformat": 4,
 "nbformat_minor": 2
}
