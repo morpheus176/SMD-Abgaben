{
 "cells": [
  {
   "cell_type": "markdown",
   "metadata": {},
   "source": [
    "## a)"
   ]
  },
  {
   "cell_type": "markdown",
   "metadata": {},
   "source": [
    "Wikipedia sagt, dass das aus der bedingten Wahrscheinlichkeit folgt:\n",
    "\\begin{equation}\n",
    "P(F|W) = \\frac{P(F\\cap\\ W)}{P(W)} = \\frac{\\frac{P(F\\,\\cap\\, W)}{P(F)}\\cdot P(F)}{P(W)} = \\frac{P(W|F)\\cdot P(F)}{P(W)}\n",
    "\\end{equation}"
   ]
  },
  {
   "cell_type": "markdown",
   "metadata": {},
   "source": [
    "## b)"
   ]
  },
  {
   "cell_type": "code",
   "execution_count": 8,
   "metadata": {},
   "outputs": [
    {
     "data": {
      "text/plain": [
       "0.26886145404663925"
      ]
     },
     "execution_count": 8,
     "metadata": {},
     "output_type": "execute_result"
    }
   ],
   "source": [
    "#Wahrscheinlichkeit für ein Spiel:\n",
    "P_F=9/14\n",
    "#Wahrscheinlichkeiten für die geg. Parameter:\n",
    "P_Wind_Stark=6/14\n",
    "P_Temp_Kalt=6/14\n",
    "P_Aussicht_Sonnig=3/14\n",
    "P_Feucht_Hoch=7/14\n",
    "#Wahrscheinlichkeit für die geg. Parameter in F:\n",
    "P_Wind_F=1/3\n",
    "P_Temp_F=1/3\n",
    "P_Feucht_F=1/3\n",
    "P_Aussicht_F=2/9\n",
    "#Gesamtwahrscheinlichkeit:\n",
    "P_F_W=(P_Wind_F*P_Temp_F*P_Feucht_F*P_Aussicht_F)*P_F/(P_Wind_Stark*P_Temp_Kalt*P_Aussicht_Sonnig*P_Feucht_Hoch)\n",
    "P_F_W"
   ]
  },
  {
   "cell_type": "markdown",
   "metadata": {},
   "source": [
    "## c)\n"
   ]
  },
  {
   "cell_type": "markdown",
   "metadata": {},
   "source": [
    "Die Wahrscheinlichkeit beträgt 0, da der Datensatz keine Aufzeichnungen von stattgefundenden Spielen bei heißem Wetter enthält.\n",
    "Ein größerer Datensatz könnte das Problem beheben."
   ]
  }
 ],
 "metadata": {
  "kernelspec": {
   "display_name": "Python 3",
   "language": "python",
   "name": "python3"
  },
  "language_info": {
   "codemirror_mode": {
    "name": "ipython",
    "version": 3
   },
   "file_extension": ".py",
   "mimetype": "text/x-python",
   "name": "python",
   "nbconvert_exporter": "python",
   "pygments_lexer": "ipython3",
   "version": "3.6.5"
  }
 },
 "nbformat": 4,
 "nbformat_minor": 2
}
