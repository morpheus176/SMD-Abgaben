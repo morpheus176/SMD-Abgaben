{
 "cells": [
  {
   "cell_type": "markdown",
   "metadata": {},
   "source": [
    "# Aufgabe 24"
   ]
  },
  {
   "cell_type": "markdown",
   "metadata": {},
   "source": [
    "## a)"
   ]
  },
  {
   "cell_type": "markdown",
   "metadata": {},
   "source": [
    "Designmatrix aufstellen: \n",
    "\\begin{equation}\n",
    "A= \\begin{pmatrix}\n",
    "  \\cos{(\\frac{0}{6}\\pi)} & \\sin{(\\frac{0}{6}\\pi)} \\\\\n",
    "  \\cos{(\\frac{1}{6}\\pi)} & \\sin{(\\frac{1}{6}\\pi)} \\\\\n",
    "  \\cos{(\\frac{2}{6}\\pi)} & \\sin{(\\frac{2}{6}\\pi)} \\\\\n",
    "  \\cos{(\\frac{3}{6}\\pi)} & \\sin{(\\frac{3}{6}\\pi)} \\\\\n",
    "  \\cos{(\\frac{4}{6}\\pi)} & \\sin{(\\frac{4}{6}\\pi)} \\\\\n",
    "  \\cos{(\\frac{5}{6}\\pi)} & \\sin{(\\frac{5}{6}\\pi)} \\\\\n",
    "  \\cos{(\\frac{6}{6}\\pi)} & \\sin{(\\frac{6}{6}\\pi)} \\\\\n",
    "  \\cos{(\\frac{7}{6}\\pi)} & \\sin{(\\frac{7}{6}\\pi)} \\\\\n",
    "  \\cos{(\\frac{8}{6}\\pi)} & \\sin{(\\frac{8}{6}\\pi)} \\\\\n",
    "  \\cos{(\\frac{9}{6}\\pi)} & \\sin{(\\frac{9}{6}\\pi)} \\\\\n",
    "  \\cos{(\\frac{10}{6}\\pi)} & \\sin{(\\frac{10}{6}\\pi)} \\\\\n",
    "  \\cos{(\\frac{11}{6}\\pi)} & \\sin{(\\frac{11}{6}\\pi)} \\\\\n",
    "\\end{pmatrix}\n",
    "\\end{equation}\n"
   ]
  },
  {
   "cell_type": "markdown",
   "metadata": {},
   "source": [
    "## b)"
   ]
  },
  {
   "cell_type": "code",
   "execution_count": 2,
   "metadata": {},
   "outputs": [],
   "source": [
    "import numpy as np\n"
   ]
  },
  {
   "cell_type": "markdown",
   "metadata": {},
   "source": [
    "\\begin{equation}\n",
    "    \\hat{a}=\\left(A^{T}A \\right)^{-1} A^{T} y\n",
    "\\end{equation}"
   ]
  },
  {
   "cell_type": "code",
   "execution_count": 3,
   "metadata": {},
   "outputs": [
    {
     "data": {
      "text/plain": [
       "matrix([[-0.04019568],\n",
       "        [ 0.08817037]])"
      ]
     },
     "execution_count": 3,
     "metadata": {},
     "output_type": "execute_result"
    }
   ],
   "source": [
    "A=np.matrix([[np.cos(0), np.sin(0)],\n",
    "            [np.cos(1/6*np.pi), np.sin(1/6*np.pi)], \n",
    "            [np.cos(2/6*np.pi), np.sin(2/6*np.pi)], \n",
    "            [np.cos(3/6*np.pi), np.sin(3/6*np.pi)], \n",
    "            [np.cos(4/6*np.pi), np.sin(5/6*np.pi)],\n",
    "            [np.cos(5/6*np.pi), np.sin(5/6*np.pi)], \n",
    "            [np.cos(6/6*np.pi), np.sin(6/6*np.pi)], \n",
    "            [np.cos(7/6*np.pi), np.sin(7/6*np.pi)], \n",
    "            [np.cos(8/6*np.pi), np.sin(8/6*np.pi)], \n",
    "            [np.cos(9/6*np.pi), np.sin(9/6*np.pi)], \n",
    "            [np.cos(10/6*np.pi), np.sin(10/6*np.pi)], \n",
    "            [np.cos(11/6*np.pi), np.sin(11/6*np.pi)]])\n",
    "\n",
    "y=np.matrix([-0.032, 0.010, 0.057, 0.068, 0.076, 0.080, 0.031, 0.005, -0.041, -0.041 -0.090, -0.088, -0.074])\n",
    "\n",
    "a=(A.T*A)**(-1)*A.T*y.T\n",
    "a"
   ]
  },
  {
   "cell_type": "markdown",
   "metadata": {},
   "source": [
    "## C)"
   ]
  },
  {
   "cell_type": "markdown",
   "metadata": {},
   "source": [
    "\\begin{equation}\n",
    "V[\\hat{a}]= \\sigma^2 \\left(A^T A\\right)\n",
    "\\end{equation}"
   ]
  },
  {
   "cell_type": "code",
   "execution_count": 4,
   "metadata": {
    "scrolled": false
   },
   "outputs": [
    {
     "data": {
      "text/plain": [
       "matrix([[7.26000000e-04, 2.21445369e-05],\n",
       "        [2.21445369e-05, 6.65500000e-04]])"
      ]
     },
     "execution_count": 4,
     "metadata": {},
     "output_type": "execute_result"
    }
   ],
   "source": [
    "sigma = 0.011\n",
    "V = sigma**2 * (A.T * A)\n",
    "V"
   ]
  },
  {
   "cell_type": "markdown",
   "metadata": {},
   "source": [
    "Also ergibt sich:\n",
    "\\begin{align}\n",
    "    \\sigma_{\\alpha_1} &= 0,0294 \\\\\n",
    "    \\sigma_{\\alpha_2} &= 0,0258\n",
    "\\end{align}"
   ]
  },
  {
   "cell_type": "code",
   "execution_count": 5,
   "metadata": {},
   "outputs": [
    {
     "data": {
      "text/plain": [
       "0.03185842215551651"
      ]
     },
     "execution_count": 5,
     "metadata": {},
     "output_type": "execute_result"
    }
   ],
   "source": [
    "rho=V[0, 1]/(np.sqrt(V[0,0]*V[1, 1]))\n",
    "rho"
   ]
  },
  {
   "cell_type": "markdown",
   "metadata": {},
   "source": [
    "womit\n",
    "\\begin{equation}\n",
    "    \\rho= \\frac{\\sigma_{1, 2}}{\\sigma_1 \\sigma_2} = \\frac{2.2145 \\cdot 10^{-5}}{\\sqrt{7,2600 \\cdot 10^{-4} \\cdot 6,6550 \\cdot 10^{-4}}}= 0,0319\n",
    "\\end{equation}\n",
    "folgt.\n"
   ]
  },
  {
   "cell_type": "code",
   "execution_count": null,
   "metadata": {},
   "outputs": [],
   "source": []
  },
  {
   "cell_type": "markdown",
   "metadata": {},
   "source": [
    "## d)"
   ]
  },
  {
   "cell_type": "markdown",
   "metadata": {},
   "source": [
    "Es gilt:\n",
    "\\begin{equation}\n",
    "    \\cos{(\\Psi+\\delta)}=\\cos{(\\Psi)} \\cos{(\\delta)} - \\sin{(\\Psi)} \\sin{(\\delta)}\n",
    "\\end{equation}\n",
    "\n",
    "Daraus folgt:\n",
    "\\begin{align*}\n",
    "    a_1 &= A_0 \\cdot \\cos{\\delta} \\\\\n",
    "    a_2 &= A_0 \\cdot \\sin{\\delta} \\\\\n",
    "      \\rightarrow  {a_1}^2+{a_2}^2={A_0}^2 & \\rightarrow A_0=\\sqrt{{a_1}^2+{a_2}^2}\n",
    "\\end{align*}"
   ]
  },
  {
   "cell_type": "code",
   "execution_count": null,
   "metadata": {},
   "outputs": [],
   "source": []
  }
 ],
 "metadata": {
  "kernelspec": {
   "display_name": "Python 3",
   "language": "python",
   "name": "python3"
  },
  "language_info": {
   "codemirror_mode": {
    "name": "ipython",
    "version": 3
   },
   "file_extension": ".py",
   "mimetype": "text/x-python",
   "name": "python",
   "nbconvert_exporter": "python",
   "pygments_lexer": "ipython3",
   "version": "3.6.5"
  }
 },
 "nbformat": 4,
 "nbformat_minor": 2
}
