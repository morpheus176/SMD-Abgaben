{
 "cells": [
  {
   "cell_type": "markdown",
   "metadata": {},
   "source": [
    "# Aufgabe 29"
   ]
  },
  {
   "cell_type": "markdown",
   "metadata": {},
   "source": [
    "## a)"
   ]
  },
  {
   "cell_type": "code",
   "execution_count": 32,
   "metadata": {},
   "outputs": [],
   "source": [
    "import numpy as np\n",
    "import matplotlib.pyplot as plt\n",
    "from scipy.sparse import diags\n",
    "np.random.seed(0)"
   ]
  },
  {
   "cell_type": "code",
   "execution_count": 33,
   "metadata": {},
   "outputs": [
    {
     "name": "stdout",
     "output_type": "stream",
     "text": [
      "Test für 5x5:\n"
     ]
    },
    {
     "data": {
      "text/plain": [
       "array([[0.77, 0.23, 0.  , 0.  , 0.  ],\n",
       "       [0.23, 0.54, 0.23, 0.  , 0.  ],\n",
       "       [0.  , 0.23, 0.54, 0.23, 0.  ],\n",
       "       [0.  , 0.  , 0.23, 0.54, 0.23],\n",
       "       [0.  , 0.  , 0.  , 0.23, 0.77]])"
      ]
     },
     "execution_count": 33,
     "metadata": {},
     "output_type": "execute_result"
    }
   ],
   "source": [
    "def Matrix(Dimension, Epsilon):\n",
    "    C = diags([Epsilon, 1-2*Epsilon, Epsilon], [-1, 0, 1], shape=(Dimension, Dimension)).toarray()\n",
    "    C[0][0]=C[Dimension-1][Dimension-1]=1-Epsilon\n",
    "    return C\n",
    "print('Test für 5x5:')\n",
    "Matrix(5, 0.23)\n",
    "\n"
   ]
  },
  {
   "cell_type": "markdown",
   "metadata": {},
   "source": [
    "## b)"
   ]
  },
  {
   "cell_type": "code",
   "execution_count": 34,
   "metadata": {
    "scrolled": false
   },
   "outputs": [
    {
     "name": "stdout",
     "output_type": "stream",
     "text": [
      "g =  [260.16 459.01 645.6  749.66 794.8  798.79 775.09 733.93 682.62 625.54\n",
      " 566.46 508.46 452.92 400.69 352.38 308.69 269.15 233.92 202.46 179.67] \n",
      "\n",
      "Die poisson gezogenden g sind dann:  [262 465 640 745 873 825 780 684 705 623 534 510 438 398 358 346 262 243\n",
      " 209 167]\n"
     ]
    }
   ],
   "source": [
    "f=np.array([193, 485, 664, 763, 804, 805, 779, 736, 684, 626, \n",
    "            566, 508, 452, 400, 351, 308, 268, 233, 202, 173])\n",
    "A=Matrix(20, 0.23)\n",
    "g=np.dot(A, f)\n",
    "print('g = ', g, '\\n')\n",
    "gmess=np.random.poisson(g)\n",
    "print('Die poisson gezogenden g sind dann: ', gmess)"
   ]
  },
  {
   "cell_type": "markdown",
   "metadata": {},
   "source": [
    "## c)"
   ]
  },
  {
   "cell_type": "markdown",
   "metadata": {},
   "source": [
    "Mit der Faltungsgleichung  $g=A\\cdot f$\n",
    "und der Diagonalbasis $A=U\\cdot D \\cdot A^{-1}$ folgt: \n",
    "\\begin{equation}\n",
    "     U^{-1}\\cdot g = D \\cdot U^{-1} f .\n",
    "\\end{equation}"
   ]
  },
  {
   "cell_type": "code",
   "execution_count": 35,
   "metadata": {},
   "outputs": [],
   "source": [
    "Werte, Vektoren = np.linalg.eig(A)\n",
    "Index=Werte.argsort()\n",
    "Werte=Werte[Index]\n",
    "Vektoren=Vektoren[:,Index]\n"
   ]
  },
  {
   "cell_type": "markdown",
   "metadata": {},
   "source": [
    "## d)"
   ]
  },
  {
   "cell_type": "code",
   "execution_count": 36,
   "metadata": {},
   "outputs": [],
   "source": [
    "U=Vektoren\n",
    "Uinv=np.linalg.inv(U)\n",
    "\n",
    "D=np.diag(Werte)\n",
    "Dinv=np.linalg.inv(D)\n",
    "\n",
    "b=Uinv @ f\n",
    "c=Uinv @ gmess\n",
    "kg=np.diag(gmess)\n"
   ]
  },
  {
   "cell_type": "code",
   "execution_count": 39,
   "metadata": {},
   "outputs": [],
   "source": [
    "Vg = np.diag(gmess) #Kovarianzmatrix von gmess\n",
    "B = Dinv@Uinv \n",
    "bvb = B@Vg@B.T \n",
    "bvbvar = np.diag(bvb)\n",
    "bvbstan = np.sqrt(bvbvar)\n",
    "bvbskal = np.abs(b/bvbstan) "
   ]
  },
  {
   "cell_type": "code",
   "execution_count": 38,
   "metadata": {
    "scrolled": true
   },
   "outputs": [
    {
     "data": {
      "image/png": "[encoded data removed]",
      "text/plain": [
       "<matplotlib.figure.Figure at 0x246882fc780>"
      ]
     },
     "metadata": {},
     "output_type": "display_data"
    }
   ],
   "source": [
    "x=np.linspace(0,np.size(bvbskal),np.size(bvbskal))\n",
    "plt.yscale('log')\n",
    "plt.step(x, bvbskal,)\n",
    "plt.xlabel(r'Index $j$')\n",
    "plt.ylabel(r'Koeffizient $b_j$')\n",
    "plt.show()"
   ]
  },
  {
   "cell_type": "code",
   "execution_count": null,
   "metadata": {},
   "outputs": [],
   "source": []
  }
 ],
 "metadata": {
  "kernelspec": {
   "display_name": "Python 3",
   "language": "python",
   "name": "python3"
  },
  "language_info": {
   "codemirror_mode": {
    "name": "ipython",
    "version": 3
   },
   "file_extension": ".py",
   "mimetype": "text/x-python",
   "name": "python",
   "nbconvert_exporter": "python",
   "pygments_lexer": "ipython3",
   "version": "3.6.5"
  }
 },
 "nbformat": 4,
 "nbformat_minor": 2
}
