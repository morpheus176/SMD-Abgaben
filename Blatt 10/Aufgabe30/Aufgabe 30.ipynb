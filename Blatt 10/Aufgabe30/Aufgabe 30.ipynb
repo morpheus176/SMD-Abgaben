{
 "cells": [
  {
   "cell_type": "markdown",
   "metadata": {},
   "source": [
    "# Aufgabe 30\n",
    "\n",
    "### a)"
   ]
  },
  {
   "cell_type": "code",
   "execution_count": 140,
   "metadata": {},
   "outputs": [],
   "source": [
    "import pandas as pd\n",
    "import numpy as np\n",
    "import matplotlib.pyplot as plt\n",
    "\n",
    "from sklearn.ensemble import RandomForestClassifier\n",
    "from sklearn.ensemble import RandomForestRegressor\n",
    "from sklearn.model_selection import train_test_split\n",
    "# from sklearn.model_selection import cross_val_predict\n",
    "# from sklearn.model_selection import cross_val_score\n",
    "from sklearn.model_selection import cross_validate\n",
    "from sklearn.metrics import roc_curve\n",
    "\n",
    "#import tensorflow as tf"
   ]
  },
  {
   "cell_type": "code",
   "execution_count": 141,
   "metadata": {},
   "outputs": [],
   "source": [
    "df = pd.read_hdf('image_parameters_smd_reduced.hdf5')\n",
    "\n",
    "# Labels erstellen\n",
    "y = np.array(df['corsika_run_header_particle_id'])\n",
    "y[y==1] = 0\n",
    "y[y==14] = 1"
   ]
  },
  {
   "cell_type": "code",
   "execution_count": 142,
   "metadata": {},
   "outputs": [],
   "source": [
    "# Feature-Set erstellen\n",
    "\n",
    "# cog = np.array(df['concentration_cog'])\n",
    "size = np.array(df['size'])\n",
    "width = np.array(df['width'])\n",
    "length = np.array(df['length'])\n",
    "islands = np.array(df['num_islands'])\n",
    "pixel = np.array(df['num_pixel_in_shower'])\n",
    "# skew_long = np.array(df['skewness_long'])\n",
    "# skew_trans = np.array(df['skewness_trans'])\n",
    "\n",
    "X = np.vstack((size, width, length, islands, pixel)).T"
   ]
  },
  {
   "cell_type": "code",
   "execution_count": 143,
   "metadata": {},
   "outputs": [],
   "source": [
    "# Trainings- und Test-Datensatz erstellen\n",
    "\n",
    "np.random.seed(42)\n",
    "X_train, X_test, y_train, y_test = train_test_split(X, y, test_size = 0.2)"
   ]
  },
  {
   "cell_type": "markdown",
   "metadata": {},
   "source": [
    "### b)"
   ]
  },
  {
   "cell_type": "code",
   "execution_count": 144,
   "metadata": {
    "scrolled": true
   },
   "outputs": [
    {
     "name": "stdout",
     "output_type": "stream",
     "text": [
      "n_estimators = 1: \n",
      " 0.612 +- 0.006\n"
     ]
    }
   ],
   "source": [
    "# Klassifizierung mit Random Forest\n",
    "\n",
    "def roc(n_estimators):\n",
    "    clf = RandomForestClassifier(n_estimators=n_estimators, max_depth=2, random_state=0, n_jobs=-1)\n",
    "    validation = cross_validate(clf, X_train, y_train, cv=5, scoring=['roc_auc'], return_train_score=True)\n",
    "    \n",
    "    return print('n_estimators = {:.0f}: \\n {:.3f} +- {:.3f}'.format(n_estimators, validation['test_roc_auc'].mean(), validation['test_roc_auc'].std()))\n",
    "\n",
    "roc(1)"
   ]
  },
  {
   "cell_type": "code",
   "execution_count": 145,
   "metadata": {
    "scrolled": true
   },
   "outputs": [
    {
     "name": "stdout",
     "output_type": "stream",
     "text": [
      "n_estimators = 10: \n",
      " 0.662 +- 0.006\n"
     ]
    }
   ],
   "source": [
    "roc(10)"
   ]
  },
  {
   "cell_type": "code",
   "execution_count": 146,
   "metadata": {},
   "outputs": [
    {
     "name": "stdout",
     "output_type": "stream",
     "text": [
      "n_estimators = 100: \n",
      " 0.670 +- 0.006\n"
     ]
    }
   ],
   "source": [
    "roc(100)"
   ]
  },
  {
   "cell_type": "markdown",
   "metadata": {},
   "source": [
    "### c)"
   ]
  },
  {
   "cell_type": "code",
   "execution_count": 147,
   "metadata": {},
   "outputs": [],
   "source": [
    "clf = RandomForestClassifier(n_estimators=100, max_depth=2, random_state=0, n_jobs=-1)\n",
    "clf.fit(X_train, y_train)\n",
    "predict = clf.predict_proba(X_test)"
   ]
  },
  {
   "cell_type": "code",
   "execution_count": 148,
   "metadata": {},
   "outputs": [
    {
     "data": {
      "text/plain": [
       "Text(0,0.5,'True Positive Rate')"
      ]
     },
     "execution_count": 148,
     "metadata": {},
     "output_type": "execute_result"
    },
    {
     "data": {
      "image/png": "[encoded data removed]",
      "text/plain": [
       "<Figure size 864x720 with 2 Axes>"
      ]
     },
     "metadata": {
      "needs_background": "light"
     },
     "output_type": "display_data"
    }
   ],
   "source": [
    "fpr, tpr, t = roc_curve(y_test, predict[:, 1])\n",
    "plt.figure(figsize=(12, 10))\n",
    "plt.scatter(fpr, tpr, c=t, cmap='viridis')\n",
    "plt.colorbar(label='Decision Threshold')\n",
    "plt.xlim([-0.02, 1.02])\n",
    "plt.ylim([-0.02, 1.02])\n",
    "plt.xlabel('False Positive Rate')\n",
    "plt.ylabel('True Positive Rate')"
   ]
  }
 ],
 "metadata": {
  "kernelspec": {
   "display_name": "Python 3",
   "language": "python",
   "name": "python3"
  },
  "language_info": {
   "codemirror_mode": {
    "name": "ipython",
    "version": 3
   },
   "file_extension": ".py",
   "mimetype": "text/x-python",
   "name": "python",
   "nbconvert_exporter": "python",
   "pygments_lexer": "ipython3",
   "version": "3.7.0"
  }
 },
 "nbformat": 4,
 "nbformat_minor": 2
}
