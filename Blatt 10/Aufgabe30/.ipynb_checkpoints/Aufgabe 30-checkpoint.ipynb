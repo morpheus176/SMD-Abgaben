{
 "cells": [
  {
   "cell_type": "markdown",
   "metadata": {},
   "source": [
    "# Aufgabe 30\n",
    "\n",
    "### a)"
   ]
  },
  {
   "cell_type": "code",
   "execution_count": 18,
   "metadata": {},
   "outputs": [],
   "source": [
    "import pandas as pd\n",
    "import numpy as np\n",
    "import matplotlib.pyplot as plt\n",
    "\n",
    "from sklearn.ensemble import RandomForestClassifier\n",
    "from sklearn.ensemble import RandomForestRegressor\n",
    "from sklearn.model_selection import train_test_split\n",
    "from sklearn.model_selection import cross_validate\n",
    "from sklearn.metrics import roc_curve\n",
    "from sklearn.metrics import roc_auc_score"
   ]
  },
  {
   "cell_type": "code",
   "execution_count": 19,
   "metadata": {},
   "outputs": [],
   "source": [
    "df = pd.read_hdf('image_parameters_smd_reduced.hdf5')\n",
    "\n",
    "# Labels erstellen\n",
    "\n",
    "y = np.array(df['corsika_run_header_particle_id'])\n",
    "y[y==1] = 1\n",
    "y[y==14] = 0"
   ]
  },
  {
   "cell_type": "code",
   "execution_count": 20,
   "metadata": {},
   "outputs": [],
   "source": [
    "# Feature-Set erstellen\n",
    "\n",
    "size = np.array(df['size'])\n",
    "width = np.array(df['width'])\n",
    "length = np.array(df['length'])\n",
    "islands = np.array(df['num_islands'])\n",
    "pixel = np.array(df['num_pixel_in_shower'])\n",
    "charge_mean = np.array(df['photoncharge_shower_mean'])\n",
    "\n",
    "X = np.vstack((size, width, length, islands, pixel, charge_mean)).T"
   ]
  },
  {
   "cell_type": "code",
   "execution_count": 21,
   "metadata": {},
   "outputs": [],
   "source": [
    "# Trainings- und Test-Datensatz erstellen\n",
    "\n",
    "X_train, X_test, y_train, y_test = train_test_split(X, y, test_size = 0.2, random_state=0)"
   ]
  },
  {
   "cell_type": "markdown",
   "metadata": {},
   "source": [
    "### b)"
   ]
  },
  {
   "cell_type": "code",
   "execution_count": 22,
   "metadata": {
    "scrolled": true
   },
   "outputs": [
    {
     "name": "stdout",
     "output_type": "stream",
     "text": [
      "n_estimators = 1: \n",
      " 0.604 +- 0.006\n"
     ]
    }
   ],
   "source": [
    "# Klassifizierung mit Random Forest\n",
    "\n",
    "def auc(n_estimators):\n",
    "    clf = RandomForestClassifier(n_estimators=n_estimators, max_depth=2, \n",
    "                                 random_state=0, n_jobs=-1)\n",
    "    validation = cross_validate(clf, X_train, y_train, cv=5, \n",
    "                                scoring=['roc_auc'], return_train_score=True)\n",
    "    \n",
    "    print('n_estimators = {:.0f}: \\n {:.3f} +- {:.3f}'.format(n_estimators, \n",
    "                                                              validation['test_roc_auc'].mean(), \n",
    "                                                              validation['test_roc_auc'].std()))\n",
    "\n",
    "auc(1)"
   ]
  },
  {
   "cell_type": "code",
   "execution_count": 23,
   "metadata": {
    "scrolled": true
   },
   "outputs": [
    {
     "name": "stdout",
     "output_type": "stream",
     "text": [
      "n_estimators = 10: \n",
      " 0.669 +- 0.007\n"
     ]
    }
   ],
   "source": [
    "auc(10)"
   ]
  },
  {
   "cell_type": "code",
   "execution_count": 24,
   "metadata": {},
   "outputs": [
    {
     "name": "stdout",
     "output_type": "stream",
     "text": [
      "n_estimators = 100: \n",
      " 0.687 +- 0.004\n"
     ]
    }
   ],
   "source": [
    "auc(100)"
   ]
  },
  {
   "cell_type": "markdown",
   "metadata": {},
   "source": [
    "Die Area Under Curve ist bei 100 estimators am besten."
   ]
  },
  {
   "cell_type": "markdown",
   "metadata": {},
   "source": [
    "### c)"
   ]
  },
  {
   "cell_type": "code",
   "execution_count": 25,
   "metadata": {},
   "outputs": [],
   "source": [
    "forest = RandomForestClassifier(n_estimators=100, max_depth=2, \n",
    "                                random_state=0, n_jobs=-1)\n",
    "forest.fit(X_train, y_train)\n",
    "predict = forest.predict_proba(X_test)"
   ]
  },
  {
   "cell_type": "markdown",
   "metadata": {},
   "source": [
    "### d)"
   ]
  },
  {
   "cell_type": "code",
   "execution_count": 26,
   "metadata": {},
   "outputs": [
    {
     "data": {
      "text/plain": [
       "Text(0,0.5,'True Positive Rate')"
      ]
     },
     "execution_count": 26,
     "metadata": {},
     "output_type": "execute_result"
    },
    {
     "data": {
      "image/png": "[encoded data removed]",
      "text/plain": [
       "<Figure size 432x288 with 2 Axes>"
      ]
     },
     "metadata": {
      "needs_background": "light"
     },
     "output_type": "display_data"
    }
   ],
   "source": [
    "fpr, tpr, t = roc_curve(y_test, predict[:, 1])\n",
    "plt.scatter(fpr, tpr, c=t, cmap='viridis')\n",
    "plt.colorbar(label='Decision Threshold')\n",
    "plt.xlim([-0.02, 1.02])\n",
    "plt.ylim([-0.02, 1.02])\n",
    "plt.xlabel('False Positive Rate')\n",
    "plt.ylabel('True Positive Rate')"
   ]
  },
  {
   "cell_type": "code",
   "execution_count": 27,
   "metadata": {},
   "outputs": [
    {
     "name": "stdout",
     "output_type": "stream",
     "text": [
      "ROC-AUC-Score: 0.688\n"
     ]
    }
   ],
   "source": [
    "print('ROC-AUC-Score: {:.3f}'.format(roc_auc_score(y_test, predict[:, 1])))"
   ]
  },
  {
   "cell_type": "code",
   "execution_count": 28,
   "metadata": {
    "scrolled": true
   },
   "outputs": [
    {
     "data": {
      "text/plain": [
       "Text(0.5,0,'Classification Score')"
      ]
     },
     "execution_count": 28,
     "metadata": {},
     "output_type": "execute_result"
    },
    {
     "data": {
      "image/png": "[encoded data removed]",
      "text/plain": [
       "<Figure size 432x288 with 1 Axes>"
      ]
     },
     "metadata": {
      "needs_background": "light"
     },
     "output_type": "display_data"
    }
   ],
   "source": [
    "plt.hist(predict[:,1], bins=25)\n",
    "plt.xlabel('Classification Score')"
   ]
  },
  {
   "cell_type": "markdown",
   "metadata": {},
   "source": [
    "Die Area Under Curve ist mit 0.688 relativ niedrig und die ROC-Curve liegt nur knapp über der Winkelhalbierenden. Dadurch ist der Klassifizierer nur leicht besser als zufällig zu raten und ist deshalb nicht wirklich dazu geeignet das Signal vom Untergrund zu trennen. Dies sieht man ebenfalls an der Verteilung der Gamma- und Hadronenereignisse. Es sind zwar zwei Peaks erkennbar (der hohe Doppel-Peak bei niedrigerem Classification Score für die Hadronen und der kleinere Peak rechts daneben für die Gammas), allerdings liegen diese so nah beieinander, dasss der Gamma-Peak bei gröberem binning nicht mehr zu erkennen ist. Für einen perfekten Klassifizierer geht die Area Under Curve gegen 1 und die ROC-Curve nähert sich einer Stufenfunktion. Die Verteilung entlang des Classification Scores hätte nur zwei Bins. Den Hadronen-Bin bei 0 und den Gamma-Bin bei 1."
   ]
  }
 ],
 "metadata": {
  "kernelspec": {
   "display_name": "Python 3",
   "language": "python",
   "name": "python3"
  },
  "language_info": {
   "codemirror_mode": {
    "name": "ipython",
    "version": 3
   },
   "file_extension": ".py",
   "mimetype": "text/x-python",
   "name": "python",
   "nbconvert_exporter": "python",
   "pygments_lexer": "ipython3",
   "version": "3.7.0"
  }
 },
 "nbformat": 4,
 "nbformat_minor": 2
}
