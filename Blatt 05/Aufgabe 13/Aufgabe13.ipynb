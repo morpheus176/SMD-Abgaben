{
 "cells": [
  {
   "cell_type": "markdown",
   "metadata": {},
   "source": [
    "# Aufgabe 13\n",
    "\n",
    "## Simulationskette für Neutrinodetektor"
   ]
  },
  {
   "cell_type": "markdown",
   "metadata": {},
   "source": [
    "### a) Signal MC"
   ]
  },
  {
   "cell_type": "markdown",
   "metadata": {},
   "source": [
    "Fluss des Neutrinos:\n",
    "$$ \\Phi = \\Phi_0 \\cdot \\left(\\frac{E}{\\mathrm{TeV}} \\right)^{-\\gamma} $$\n",
    "\n",
    "$$ \\tiny{\\gamma = 2,7 \\:,\\: E_\\text{unten} = 1 \\mathrm{TeV} \\:,\\: E_\\text{oben} = \\infty} $$ "
   ]
  },
  {
   "cell_type": "code",
   "execution_count": 7,
   "metadata": {},
   "outputs": [],
   "source": [
    "import pandas as pd \n",
    "import numpy as np\n",
    "import matplotlib.pyplot as plt"
   ]
  },
  {
   "cell_type": "code",
   "execution_count": 8,
   "metadata": {
    "scrolled": true
   },
   "outputs": [],
   "source": [
    "gamma = 2.7\n",
    "phi_0 = 1.7\n",
    "\n",
    "def phi(x):\n",
    "    return phi_0 * x**(-gamma)\n",
    "\n",
    "def Phi(x):\n",
    "    return phi_0/(gamma-1) * (1-x**(-(gamma-1)))\n",
    "\n",
    "def Phi_inv(x):\n",
    "    return 1/(1-x)**(1/(gamma-1))\n",
    "\n",
    "x = np.linspace(1, 10, 1000)\n",
    "\n",
    "#plt.plot(x, phi(x), 'b-', label=r'$\\varphi(x)$')\n",
    "#plt.plot(x, Phi(x), 'r-', label=r'$\\Phi(x)$')\n",
    "#plt.legend()\n",
    "#plt.tight_layout()"
   ]
  },
  {
   "cell_type": "code",
   "execution_count": 15,
   "metadata": {},
   "outputs": [],
   "source": [
    "np.random.seed(10)\n",
    "r = np.random.uniform(0,1, 100000)\n",
    "\n",
    "Energy = pd.DataFrame({'Energy': Phi_inv(r)})\n",
    "\n",
    "#plt.hist(Phi_inv(r), bins='auto', density=True)\n",
    "#plt.plot(x, phi(x), 'r-', label=r'$\\varphi(x)$')\n",
    "#plt.xscale('log')\n",
    "#plt.yscale('log')\n",
    "#plt.xlim(1, 10)\n",
    "#plt.tight_layout()"
   ]
  },
  {
   "cell_type": "markdown",
   "metadata": {},
   "source": [
    "### b) Akzeptanz"
   ]
  },
  {
   "cell_type": "markdown",
   "metadata": {},
   "source": [
    "Die Wahrscheinlichkeit, ein Ereignis zu detektieren beträgt:\n",
    "$$ P(E) = \\left(1-e^{-E/2} \\right)^3 $$"
   ]
  },
  {
   "cell_type": "code",
   "execution_count": 46,
   "metadata": {},
   "outputs": [
    {
     "data": {
      "text/plain": [
       "<matplotlib.legend.Legend at 0x7f64cce5af28>"
      ]
     },
     "execution_count": 46,
     "metadata": {},
     "output_type": "execute_result"
    },
    {
     "data": {
      "image/png": "[encoded data removed]",
      "text/plain": [
       "<Figure size 432x288 with 1 Axes>"
      ]
     },
     "metadata": {
      "needs_background": "light"
     },
     "output_type": "display_data"
    }
   ],
   "source": [
    "def P(x):\n",
    "    return (1-np.exp(-x/2))**3\n",
    "\n",
    "plt.plot(x, P(x), 'c-',label=r'Wahrscheinlichkeit Ereignis zu Detektieren')\n",
    "plt.plot(x, phi(x), 'k-', label=r'$\\varphi(x)$')\n",
    "plt.plot(x, Phi(x), 'b-', label=r'$\\Phi(x)$')\n",
    "plt.legend()\n",
    "#plt.tight_layout()"
   ]
  },
  {
   "cell_type": "code",
   "execution_count": 98,
   "metadata": {
    "scrolled": true
   },
   "outputs": [
    {
     "data": {
      "text/plain": [
       "(8826, 91174)"
      ]
     },
     "execution_count": 98,
     "metadata": {},
     "output_type": "execute_result"
    }
   ],
   "source": [
    "Acceptance = pd.DataFrame({'AcceptanceMask': \n",
    "                           Phi(Energy['Energy']) <= P(Energy['Energy'])})\n",
    "\n",
    "blub = pd.concat([Energy, Acceptance], axis=1)\n",
    "\n",
    "detect = 0\n",
    "notdetect = 0\n",
    "for xn in range(len(Acceptance)):\n",
    "    if Acceptance.loc[xn, 'AcceptanceMask'] == True:\n",
    "        #print(blub.loc[xn, 'Energy'])\n",
    "        detect += 1\n",
    "    else:\n",
    "        notdetect += 1\n",
    "\n",
    "detect, notdetect"
   ]
  },
  {
   "cell_type": "code",
   "execution_count": null,
   "metadata": {},
   "outputs": [],
   "source": []
  },
  {
   "cell_type": "markdown",
   "metadata": {},
   "source": [
    "# TEST"
   ]
  },
  {
   "cell_type": "code",
   "execution_count": 6,
   "metadata": {},
   "outputs": [
    {
     "data": {
      "text/html": [
       "<div>\n",
       "<style scoped>\n",
       "    .dataframe tbody tr th:only-of-type {\n",
       "        vertical-align: middle;\n",
       "    }\n",
       "\n",
       "    .dataframe tbody tr th {\n",
       "        vertical-align: top;\n",
       "    }\n",
       "\n",
       "    .dataframe thead th {\n",
       "        text-align: right;\n",
       "    }\n",
       "</style>\n",
       "<table border=\"1\" class=\"dataframe\">\n",
       "  <thead>\n",
       "    <tr style=\"text-align: right;\">\n",
       "      <th></th>\n",
       "      <th>A</th>\n",
       "      <th>B</th>\n",
       "      <th>C</th>\n",
       "      <th>D</th>\n",
       "    </tr>\n",
       "  </thead>\n",
       "  <tbody>\n",
       "    <tr>\n",
       "      <th>0</th>\n",
       "      <td>foo</td>\n",
       "      <td>one</td>\n",
       "      <td>0</td>\n",
       "      <td>0</td>\n",
       "    </tr>\n",
       "    <tr>\n",
       "      <th>1</th>\n",
       "      <td>bar</td>\n",
       "      <td>one</td>\n",
       "      <td>1</td>\n",
       "      <td>2</td>\n",
       "    </tr>\n",
       "    <tr>\n",
       "      <th>2</th>\n",
       "      <td>foo</td>\n",
       "      <td>two</td>\n",
       "      <td>2</td>\n",
       "      <td>4</td>\n",
       "    </tr>\n",
       "    <tr>\n",
       "      <th>3</th>\n",
       "      <td>bar</td>\n",
       "      <td>three</td>\n",
       "      <td>3</td>\n",
       "      <td>6</td>\n",
       "    </tr>\n",
       "    <tr>\n",
       "      <th>4</th>\n",
       "      <td>foo</td>\n",
       "      <td>two</td>\n",
       "      <td>4</td>\n",
       "      <td>8</td>\n",
       "    </tr>\n",
       "    <tr>\n",
       "      <th>5</th>\n",
       "      <td>bar</td>\n",
       "      <td>two</td>\n",
       "      <td>5</td>\n",
       "      <td>10</td>\n",
       "    </tr>\n",
       "    <tr>\n",
       "      <th>6</th>\n",
       "      <td>foo</td>\n",
       "      <td>one</td>\n",
       "      <td>6</td>\n",
       "      <td>12</td>\n",
       "    </tr>\n",
       "    <tr>\n",
       "      <th>7</th>\n",
       "      <td>foo</td>\n",
       "      <td>three</td>\n",
       "      <td>7</td>\n",
       "      <td>14</td>\n",
       "    </tr>\n",
       "  </tbody>\n",
       "</table>\n",
       "</div>"
      ],
      "text/plain": [
       "     A      B  C   D\n",
       "0  foo    one  0   0\n",
       "1  bar    one  1   2\n",
       "2  foo    two  2   4\n",
       "3  bar  three  3   6\n",
       "4  foo    two  4   8\n",
       "5  bar    two  5  10\n",
       "6  foo    one  6  12\n",
       "7  foo  three  7  14"
      ]
     },
     "execution_count": 6,
     "metadata": {},
     "output_type": "execute_result"
    }
   ],
   "source": [
    "df = pd.DataFrame({'A': 'foo bar foo bar foo bar foo foo'.split(),\n",
    "                   'B': 'one one two three two two one three'.split(),\n",
    "                   'C': np.arange(8), 'D': np.arange(8) * 2})\n",
    "\n",
    "df"
   ]
  },
  {
   "cell_type": "code",
   "execution_count": 7,
   "metadata": {},
   "outputs": [
    {
     "data": {
      "text/html": [
       "<div>\n",
       "<style scoped>\n",
       "    .dataframe tbody tr th:only-of-type {\n",
       "        vertical-align: middle;\n",
       "    }\n",
       "\n",
       "    .dataframe tbody tr th {\n",
       "        vertical-align: top;\n",
       "    }\n",
       "\n",
       "    .dataframe thead th {\n",
       "        text-align: right;\n",
       "    }\n",
       "</style>\n",
       "<table border=\"1\" class=\"dataframe\">\n",
       "  <thead>\n",
       "    <tr style=\"text-align: right;\">\n",
       "      <th></th>\n",
       "      <th>A</th>\n",
       "      <th>B</th>\n",
       "      <th>C</th>\n",
       "      <th>D</th>\n",
       "    </tr>\n",
       "  </thead>\n",
       "  <tbody>\n",
       "    <tr>\n",
       "      <th>2</th>\n",
       "      <td>foo</td>\n",
       "      <td>two</td>\n",
       "      <td>2</td>\n",
       "      <td>4</td>\n",
       "    </tr>\n",
       "    <tr>\n",
       "      <th>4</th>\n",
       "      <td>foo</td>\n",
       "      <td>two</td>\n",
       "      <td>4</td>\n",
       "      <td>8</td>\n",
       "    </tr>\n",
       "    <tr>\n",
       "      <th>5</th>\n",
       "      <td>bar</td>\n",
       "      <td>two</td>\n",
       "      <td>5</td>\n",
       "      <td>10</td>\n",
       "    </tr>\n",
       "  </tbody>\n",
       "</table>\n",
       "</div>"
      ],
      "text/plain": [
       "     A    B  C   D\n",
       "2  foo  two  2   4\n",
       "4  foo  two  4   8\n",
       "5  bar  two  5  10"
      ]
     },
     "execution_count": 7,
     "metadata": {},
     "output_type": "execute_result"
    }
   ],
   "source": [
    "df.loc[df['B'] == 'two']"
   ]
  },
  {
   "cell_type": "code",
   "execution_count": 8,
   "metadata": {},
   "outputs": [],
   "source": [
    "test = pd.DataFrame({'month': [1, 4, 7, 10],\n",
    "                     'year': [2012, 2014, 2013, 2014],\n",
    "                     'sale':[55, 40, 84, 31]})\n",
    "\n",
    "test2 = pd.DataFrame(['a', 'b', 'c', 'd'])\n",
    "test3 = pd.DataFrame(['f', 'g', 'h', 'i'])\n",
    "\n",
    "test23 = pd.concat([test2, test3], keys=['Energy', 'Acceptance'], axis=1)\n",
    "testtest = test23.Acceptance == 'f'\n",
    "\n",
    "#test23.append(testtest)\n",
    "#pd.concat([test23, testtest], axis=1)"
   ]
  },
  {
   "cell_type": "code",
   "execution_count": 9,
   "metadata": {},
   "outputs": [
    {
     "data": {
      "text/plain": [
       "(array([0.07952797, 0.15905595, 0.25846592, 0.41255137, 0.43740386,\n",
       "        0.45728585, 0.50202034, 0.41752187, 0.47716785, 0.53681383,\n",
       "        0.37775788, 0.36781688, 0.26343642, 0.15408545, 0.06958698]),\n",
       " array([0.07932396, 0.28051103, 0.48169809, 0.68288516, 0.88407223,\n",
       "        1.0852593 , 1.28644636, 1.48763343, 1.6888205 , 1.89000757,\n",
       "        2.09119463, 2.2923817 , 2.49356877, 2.69475584, 2.8959429 ,\n",
       "        3.09712997]),\n",
       " <a list of 15 Patch objects>)"
      ]
     },
     "execution_count": 9,
     "metadata": {},
     "output_type": "execute_result"
    },
    {
     "data": {
      "image/png": "[encoded data removed]",
      "text/plain": [
       "<Figure size 432x288 with 1 Axes>"
      ]
     },
     "metadata": {
      "needs_background": "light"
     },
     "output_type": "display_data"
    }
   ],
   "source": [
    "def f(x):\n",
    "    return 1/2*np.sin(x)\n",
    "\n",
    "def F(x):\n",
    "    return 1-np.cos(x)\n",
    "\n",
    "def Finv(x):\n",
    "    return np.arccos(1-2*x)\n",
    "\n",
    "x = np.linspace(0,np.pi,100)\n",
    "r = np.random.uniform(0,1,1000)\n",
    "\n",
    "plt.plot(x,f(x))\n",
    "#plt.plot(x,F(x))\n",
    "plt.hist(Finv(r), bins='auto', density='True')"
   ]
  }
 ],
 "metadata": {
  "kernelspec": {
   "display_name": "Python 3",
   "language": "python",
   "name": "python3"
  },
  "language_info": {
   "codemirror_mode": {
    "name": "ipython",
    "version": 3
   },
   "file_extension": ".py",
   "mimetype": "text/x-python",
   "name": "python",
   "nbconvert_exporter": "python",
   "pygments_lexer": "ipython3",
   "version": "3.7.0"
  }
 },
 "nbformat": 4,
 "nbformat_minor": 2
}
