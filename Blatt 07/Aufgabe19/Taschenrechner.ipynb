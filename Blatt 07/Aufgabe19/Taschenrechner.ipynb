{
 "cells": [
  {
   "cell_type": "code",
   "execution_count": 16,
   "metadata": {},
   "outputs": [],
   "source": [
    "import numpy as np\n",
    "import matplotlib.pyplot as plt\n",
    "from scipy.spatial.distance import cdist"
   ]
  },
  {
   "cell_type": "code",
   "execution_count": 17,
   "metadata": {},
   "outputs": [],
   "source": [
    "def pltk(p, center):\n",
    "    distance = cdist(p, center)\n",
    "    print(distance)\n",
    "    labels = []\n",
    "\n",
    "    for i in range(len(p)):\n",
    "        if np.argsort(distance)[i,0] == 0:\n",
    "            labels.append('black')\n",
    "        if np.argsort(distance)[i,0] == 1:\n",
    "            labels.append('blue')\n",
    "        if np.argsort(distance)[i,0] == 2:\n",
    "            labels.append('gold')\n",
    "        plt.plot(p[i,0], p[i,1], color=labels[i], marker='x', linestyle='None')\n",
    "        \n",
    "    plt.plot(center[:,0], center[:,1], 'rx')"
   ]
  },
  {
   "cell_type": "code",
   "execution_count": 18,
   "metadata": {},
   "outputs": [
    {
     "name": "stdout",
     "output_type": "stream",
     "text": [
      "[[2.         6.         3.60555128]\n",
      " [2.23606798 6.08276253 2.82842712]\n",
      " [2.82842712 6.32455532 2.23606798]\n",
      " [1.         4.12310563 4.        ]\n",
      " [2.         4.47213595 5.        ]\n",
      " [3.16227766 4.24264069 6.08276253]\n",
      " [3.60555128 3.60555128 6.32455532]\n",
      " [3.60555128 2.23606798 5.83095189]\n",
      " [3.16227766 1.41421356 5.        ]\n",
      " [5.         1.         5.83095189]\n",
      " [5.09901951 1.41421356 5.38516481]\n",
      " [5.38516481 2.23606798 5.09901951]]\n"
     ]
    },
    {
     "data": {
      "image/png": "[encoded data removed]",
      "text/plain": [
       "<Figure size 432x288 with 1 Axes>"
      ]
     },
     "metadata": {
      "needs_background": "light"
     },
     "output_type": "display_data"
    }
   ],
   "source": [
    "p = np.array([(1,4),(1,5),(1,6),(3,3),(3,2),(4,1),(5,1),(6,2),(6,3),(8,4),(8,5),(8,6)])\n",
    "center = np.array([(3,4),(7,4),(3,7)])\n",
    "\n",
    "pltk(p, center)"
   ]
  },
  {
   "cell_type": "code",
   "execution_count": 19,
   "metadata": {},
   "outputs": [
    {
     "data": {
      "text/plain": [
       "array([[1.        , 6.        ],\n",
       "       [2.83333333, 2.66666667],\n",
       "       [7.2       , 4.        ]])"
      ]
     },
     "execution_count": 19,
     "metadata": {},
     "output_type": "execute_result"
    }
   ],
   "source": [
    "center2 = np.array([(1,6),((sum(p[0:7])-p[2])/6), (sum(p[7:])/5)])\n",
    "center2"
   ]
  },
  {
   "cell_type": "code",
   "execution_count": 20,
   "metadata": {},
   "outputs": [
    {
     "name": "stdout",
     "output_type": "stream",
     "text": [
      "[[2.         2.26691175 6.2       ]\n",
      " [1.         2.96741564 6.28012739]\n",
      " [0.         3.8042374  6.51459899]\n",
      " [3.60555128 0.372678   4.31740663]\n",
      " [4.47213595 0.68718427 4.65188134]\n",
      " [5.83095189 2.03442594 4.38634244]\n",
      " [6.40312424 2.73353658 3.72021505]\n",
      " [6.40312424 3.23608131 2.33238076]\n",
      " [5.83095189 3.1841622  1.56204994]\n",
      " [7.28010989 5.33593686 0.8       ]\n",
      " [7.07106781 5.66911712 1.28062485]\n",
      " [7.         6.14862225 2.15406592]]\n"
     ]
    },
    {
     "data": {
      "image/png": "[encoded data removed]",
      "text/plain": [
       "<Figure size 432x288 with 1 Axes>"
      ]
     },
     "metadata": {
      "needs_background": "light"
     },
     "output_type": "display_data"
    }
   ],
   "source": [
    "pltk(p,center2)"
   ]
  },
  {
   "cell_type": "code",
   "execution_count": 21,
   "metadata": {},
   "outputs": [
    {
     "data": {
      "text/plain": [
       "array([[1.  , 5.  ],\n",
       "       [3.75, 1.75],\n",
       "       [7.2 , 4.  ]])"
      ]
     },
     "execution_count": 21,
     "metadata": {},
     "output_type": "execute_result"
    }
   ],
   "source": [
    "center3 = np.array([(sum(p[0:3])/3), (sum(p[3:7])/4), (sum(p[7:])/5)])\n",
    "center3"
   ]
  },
  {
   "cell_type": "code",
   "execution_count": 22,
   "metadata": {},
   "outputs": [
    {
     "name": "stdout",
     "output_type": "stream",
     "text": [
      "[[1.         3.5531676  6.2       ]\n",
      " [0.         4.25734659 6.28012739]\n",
      " [1.         5.06211418 6.51459899]\n",
      " [2.82842712 1.45773797 4.31740663]\n",
      " [3.60555128 0.79056942 4.65188134]\n",
      " [5.         0.79056942 4.38634244]\n",
      " [5.65685425 1.45773797 3.72021505]\n",
      " [5.83095189 2.26384628 2.33238076]\n",
      " [5.38516481 2.57390754 1.56204994]\n",
      " [7.07106781 4.80884602 0.8       ]\n",
      " [7.         5.35023364 1.28062485]\n",
      " [7.07106781 6.01040764 2.15406592]]\n"
     ]
    },
    {
     "data": {
      "image/png": "[encoded data removed]",
      "text/plain": [
       "<Figure size 432x288 with 1 Axes>"
      ]
     },
     "metadata": {
      "needs_background": "light"
     },
     "output_type": "display_data"
    }
   ],
   "source": [
    "pltk(p,center3)"
   ]
  },
  {
   "cell_type": "code",
   "execution_count": 26,
   "metadata": {},
   "outputs": [
    {
     "data": {
      "text/plain": [
       "array([[1. , 5. ],\n",
       "       [4.2, 1.8],\n",
       "       [7.5, 4.5]])"
      ]
     },
     "execution_count": 26,
     "metadata": {},
     "output_type": "execute_result"
    }
   ],
   "source": [
    "center4 = np.array([(sum(p[0:3])/3), (sum(p[3:8])/5), (sum(p[8:])/4)])\n",
    "center4"
   ]
  },
  {
   "cell_type": "code",
   "execution_count": 27,
   "metadata": {},
   "outputs": [
    {
     "name": "stdout",
     "output_type": "stream",
     "text": [
      "[[1.         3.88329757 6.51920241]\n",
      " [0.         4.5254834  6.51920241]\n",
      " [1.         5.28015151 6.67083203]\n",
      " [2.82842712 1.69705627 4.74341649]\n",
      " [3.60555128 1.21655251 5.14781507]\n",
      " [5.         0.82462113 4.94974747]\n",
      " [5.65685425 1.13137085 4.30116263]\n",
      " [5.83095189 1.81107703 2.91547595]\n",
      " [5.38516481 2.16333077 2.12132034]\n",
      " [7.07106781 4.39089968 0.70710678]\n",
      " [7.         4.96789694 0.70710678]\n",
      " [7.07106781 5.6639209  1.58113883]]\n"
     ]
    },
    {
     "data": {
      "image/png": "[encoded data removed]",
      "text/plain": [
       "<Figure size 432x288 with 1 Axes>"
      ]
     },
     "metadata": {
      "needs_background": "light"
     },
     "output_type": "display_data"
    }
   ],
   "source": [
    "pltk(p,center4)"
   ]
  },
  {
   "cell_type": "code",
   "execution_count": 25,
   "metadata": {},
   "outputs": [
    {
     "data": {
      "text/plain": [
       "3.2"
      ]
     },
     "execution_count": 25,
     "metadata": {},
     "output_type": "execute_result"
    }
   ],
   "source": [
    "(1+3+3+5+4)/5"
   ]
  },
  {
   "cell_type": "code",
   "execution_count": null,
   "metadata": {},
   "outputs": [],
   "source": []
  }
 ],
 "metadata": {
  "kernelspec": {
   "display_name": "Python 3",
   "language": "python",
   "name": "python3"
  },
  "language_info": {
   "codemirror_mode": {
    "name": "ipython",
    "version": 3
   },
   "file_extension": ".py",
   "mimetype": "text/x-python",
   "name": "python",
   "nbconvert_exporter": "python",
   "pygments_lexer": "ipython3",
   "version": "3.6.6"
  }
 },
 "nbformat": 4,
 "nbformat_minor": 2
}
