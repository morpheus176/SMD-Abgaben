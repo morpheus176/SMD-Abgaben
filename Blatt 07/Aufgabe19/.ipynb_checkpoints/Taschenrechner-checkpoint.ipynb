{
 "cells": [
  {
   "cell_type": "code",
   "execution_count": 84,
   "metadata": {},
   "outputs": [],
   "source": [
    "import numpy as np\n",
    "import matplotlib.pyplot as plt\n",
    "from scipy.spatial.distance import cdist"
   ]
  },
  {
   "cell_type": "code",
   "execution_count": 85,
   "metadata": {},
   "outputs": [],
   "source": [
    "def pltk(p, center):\n",
    "    distance = cdist(p, center)\n",
    "    labels = []\n",
    "\n",
    "    for i in range(len(p)):\n",
    "        if np.argsort(distance)[i,0] == 0:\n",
    "            labels.append('black')\n",
    "        if np.argsort(distance)[i,0] == 1:\n",
    "            labels.append('blue')\n",
    "        if np.argsort(distance)[i,0] == 2:\n",
    "            labels.append('gold')\n",
    "        plt.plot(p[i,0], p[i,1], color=labels[i], marker='x', linestyle='None')\n",
    "        \n",
    "    plt.plot(center[:,0], zentren[:,1], 'rx')"
   ]
  },
  {
   "cell_type": "code",
   "execution_count": 89,
   "metadata": {},
   "outputs": [
    {
     "data": {
      "image/png": "[encoded data removed]",
      "text/plain": [
       "<Figure size 432x288 with 1 Axes>"
      ]
     },
     "metadata": {
      "needs_background": "light"
     },
     "output_type": "display_data"
    }
   ],
   "source": [
    "p = np.array([(1,4),(1,5),(1,6),(3,3),(3,2),(4,1),(5,1),(6,2),(6,3),(8,4),(8,5),(8,6)])\n",
    "center = np.array([(3,4),(7,4),(3,7)])\n",
    "\n",
    "pltk(p, center)"
   ]
  },
  {
   "cell_type": "code",
   "execution_count": 106,
   "metadata": {},
   "outputs": [
    {
     "data": {
      "text/plain": [
       "((12, 2), (3, 2), (12, 2))"
      ]
     },
     "execution_count": 106,
     "metadata": {},
     "output_type": "execute_result"
    }
   ],
   "source": [
    "p.shape, center.shape, np.zeros((len(p),2)).shape"
   ]
  }
 ],
 "metadata": {
  "kernelspec": {
   "display_name": "Python 3",
   "language": "python",
   "name": "python3"
  },
  "language_info": {
   "codemirror_mode": {
    "name": "ipython",
    "version": 3
   },
   "file_extension": ".py",
   "mimetype": "text/x-python",
   "name": "python",
   "nbconvert_exporter": "python",
   "pygments_lexer": "ipython3",
   "version": "3.7.0"
  }
 },
 "nbformat": 4,
 "nbformat_minor": 2
}
